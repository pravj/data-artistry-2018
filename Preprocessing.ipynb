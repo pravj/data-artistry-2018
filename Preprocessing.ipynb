{
 "cells": [
  {
   "cell_type": "markdown",
   "metadata": {},
   "source": [
    "- choropleth map for all the teams and their favorite (worst) ground\n",
    "- best openers and their help in win\n",
    "- best finishers and their help in win\n",
    "- bowlers and batsman pair to watch\n",
    "- map of most destructive batsman\n",
    "- out of 100 balls what happens on them"
   ]
  },
  {
   "cell_type": "code",
   "execution_count": 143,
   "metadata": {},
   "outputs": [
    {
     "name": "stdout",
     "output_type": "stream",
     "text": [
      "Collecting matplotlib\n",
      "  Downloading matplotlib-2.2.0-cp36-cp36m-macosx_10_6_intel.macosx_10_9_intel.macosx_10_9_x86_64.macosx_10_10_intel.macosx_10_10_x86_64.whl (13.7MB)\n",
      "\u001b[K    2% |▋                               | 276kB 15kB/s eta 0:14:44\u001b[31mException:\n",
      "Traceback (most recent call last):\n",
      "  File \"/Library/Frameworks/Python.framework/Versions/3.6/lib/python3.6/site-packages/pip/_vendor/requests/packages/urllib3/response.py\", line 232, in _error_catcher\n",
      "    yield\n",
      "  File \"/Library/Frameworks/Python.framework/Versions/3.6/lib/python3.6/site-packages/pip/_vendor/requests/packages/urllib3/response.py\", line 314, in read\n",
      "    data = self._fp.read(amt)\n",
      "  File \"/Library/Frameworks/Python.framework/Versions/3.6/lib/python3.6/site-packages/pip/_vendor/cachecontrol/filewrapper.py\", line 60, in read\n",
      "    data = self.__fp.read(amt)\n",
      "  File \"/Library/Frameworks/Python.framework/Versions/3.6/lib/python3.6/http/client.py\", line 449, in read\n",
      "    n = self.readinto(b)\n",
      "  File \"/Library/Frameworks/Python.framework/Versions/3.6/lib/python3.6/http/client.py\", line 493, in readinto\n",
      "    n = self.fp.readinto(b)\n",
      "  File \"/Library/Frameworks/Python.framework/Versions/3.6/lib/python3.6/socket.py\", line 586, in readinto\n",
      "    return self._sock.recv_into(b)\n",
      "  File \"/Library/Frameworks/Python.framework/Versions/3.6/lib/python3.6/ssl.py\", line 1002, in recv_into\n",
      "    return self.read(nbytes, buffer)\n",
      "  File \"/Library/Frameworks/Python.framework/Versions/3.6/lib/python3.6/ssl.py\", line 865, in read\n",
      "    return self._sslobj.read(len, buffer)\n",
      "  File \"/Library/Frameworks/Python.framework/Versions/3.6/lib/python3.6/ssl.py\", line 625, in read\n",
      "    v = self._sslobj.read(len, buffer)\n",
      "socket.timeout: The read operation timed out\n",
      "\n",
      "During handling of the above exception, another exception occurred:\n",
      "\n",
      "Traceback (most recent call last):\n",
      "  File \"/Library/Frameworks/Python.framework/Versions/3.6/lib/python3.6/site-packages/pip/basecommand.py\", line 215, in main\n",
      "    status = self.run(options, args)\n",
      "  File \"/Library/Frameworks/Python.framework/Versions/3.6/lib/python3.6/site-packages/pip/commands/install.py\", line 335, in run\n",
      "    wb.build(autobuilding=True)\n",
      "  File \"/Library/Frameworks/Python.framework/Versions/3.6/lib/python3.6/site-packages/pip/wheel.py\", line 749, in build\n",
      "    self.requirement_set.prepare_files(self.finder)\n",
      "  File \"/Library/Frameworks/Python.framework/Versions/3.6/lib/python3.6/site-packages/pip/req/req_set.py\", line 380, in prepare_files\n",
      "    ignore_dependencies=self.ignore_dependencies))\n",
      "  File \"/Library/Frameworks/Python.framework/Versions/3.6/lib/python3.6/site-packages/pip/req/req_set.py\", line 620, in _prepare_file\n",
      "    session=self.session, hashes=hashes)\n",
      "  File \"/Library/Frameworks/Python.framework/Versions/3.6/lib/python3.6/site-packages/pip/download.py\", line 821, in unpack_url\n",
      "    hashes=hashes\n",
      "  File \"/Library/Frameworks/Python.framework/Versions/3.6/lib/python3.6/site-packages/pip/download.py\", line 659, in unpack_http_url\n",
      "    hashes)\n",
      "  File \"/Library/Frameworks/Python.framework/Versions/3.6/lib/python3.6/site-packages/pip/download.py\", line 882, in _download_http_url\n",
      "    _download_url(resp, link, content_file, hashes)\n",
      "  File \"/Library/Frameworks/Python.framework/Versions/3.6/lib/python3.6/site-packages/pip/download.py\", line 603, in _download_url\n",
      "    hashes.check_against_chunks(downloaded_chunks)\n",
      "  File \"/Library/Frameworks/Python.framework/Versions/3.6/lib/python3.6/site-packages/pip/utils/hashes.py\", line 46, in check_against_chunks\n",
      "    for chunk in chunks:\n",
      "  File \"/Library/Frameworks/Python.framework/Versions/3.6/lib/python3.6/site-packages/pip/download.py\", line 571, in written_chunks\n",
      "    for chunk in chunks:\n",
      "  File \"/Library/Frameworks/Python.framework/Versions/3.6/lib/python3.6/site-packages/pip/utils/ui.py\", line 139, in iter\n",
      "    for x in it:\n",
      "  File \"/Library/Frameworks/Python.framework/Versions/3.6/lib/python3.6/site-packages/pip/download.py\", line 560, in resp_read\n",
      "    decode_content=False):\n",
      "  File \"/Library/Frameworks/Python.framework/Versions/3.6/lib/python3.6/site-packages/pip/_vendor/requests/packages/urllib3/response.py\", line 357, in stream\n",
      "    data = self.read(amt=amt, decode_content=decode_content)\n",
      "  File \"/Library/Frameworks/Python.framework/Versions/3.6/lib/python3.6/site-packages/pip/_vendor/requests/packages/urllib3/response.py\", line 324, in read\n",
      "    flush_decoder = True\n",
      "  File \"/Library/Frameworks/Python.framework/Versions/3.6/lib/python3.6/contextlib.py\", line 99, in __exit__\n",
      "    self.gen.throw(type, value, traceback)\n",
      "  File \"/Library/Frameworks/Python.framework/Versions/3.6/lib/python3.6/site-packages/pip/_vendor/requests/packages/urllib3/response.py\", line 237, in _error_catcher\n",
      "    raise ReadTimeoutError(self._pool, None, 'Read timed out.')\n",
      "pip._vendor.requests.packages.urllib3.exceptions.ReadTimeoutError: HTTPSConnectionPool(host='pypi.python.org', port=443): Read timed out.\u001b[0m\n"
     ]
    }
   ],
   "source": [
    "!pip install matplotlib"
   ]
  },
  {
   "cell_type": "code",
   "execution_count": 33,
   "metadata": {},
   "outputs": [],
   "source": [
    "import pandas as pd\n",
    "from collections import Counter"
   ]
  },
  {
   "cell_type": "code",
   "execution_count": 34,
   "metadata": {},
   "outputs": [],
   "source": [
    "df = pd.read_csv('./datasets/matches.dmp')"
   ]
  },
  {
   "cell_type": "code",
   "execution_count": 35,
   "metadata": {},
   "outputs": [
    {
     "data": {
      "text/html": [
       "<div>\n",
       "<style scoped>\n",
       "    .dataframe tbody tr th:only-of-type {\n",
       "        vertical-align: middle;\n",
       "    }\n",
       "\n",
       "    .dataframe tbody tr th {\n",
       "        vertical-align: top;\n",
       "    }\n",
       "\n",
       "    .dataframe thead th {\n",
       "        text-align: right;\n",
       "    }\n",
       "</style>\n",
       "<table border=\"1\" class=\"dataframe\">\n",
       "  <thead>\n",
       "    <tr style=\"text-align: right;\">\n",
       "      <th></th>\n",
       "      <th>id</th>\n",
       "      <th>season</th>\n",
       "      <th>city</th>\n",
       "      <th>date</th>\n",
       "      <th>team1</th>\n",
       "      <th>team2</th>\n",
       "      <th>toss_winner</th>\n",
       "      <th>toss_decision</th>\n",
       "      <th>result</th>\n",
       "      <th>dl_applied</th>\n",
       "      <th>winner</th>\n",
       "      <th>win_by_runs</th>\n",
       "      <th>win_by_wickets</th>\n",
       "      <th>player_of_match</th>\n",
       "      <th>venue</th>\n",
       "      <th>umpire1</th>\n",
       "      <th>umpire2</th>\n",
       "      <th>umpire3</th>\n",
       "    </tr>\n",
       "  </thead>\n",
       "  <tbody>\n",
       "    <tr>\n",
       "      <th>0</th>\n",
       "      <td>1</td>\n",
       "      <td>2008</td>\n",
       "      <td>Bangalore</td>\n",
       "      <td>2008-04-18</td>\n",
       "      <td>Kolkata Knight Riders</td>\n",
       "      <td>Royal Challengers Bangalore</td>\n",
       "      <td>Royal Challengers Bangalore</td>\n",
       "      <td>field</td>\n",
       "      <td>normal</td>\n",
       "      <td>0</td>\n",
       "      <td>Kolkata Knight Riders</td>\n",
       "      <td>140</td>\n",
       "      <td>0</td>\n",
       "      <td>BB McCullum</td>\n",
       "      <td>M Chinnaswamy Stadium</td>\n",
       "      <td>Asad Rauf</td>\n",
       "      <td>RE Koertzen</td>\n",
       "      <td>NaN</td>\n",
       "    </tr>\n",
       "    <tr>\n",
       "      <th>1</th>\n",
       "      <td>2</td>\n",
       "      <td>2008</td>\n",
       "      <td>Chandigarh</td>\n",
       "      <td>2008-04-19</td>\n",
       "      <td>Chennai Super Kings</td>\n",
       "      <td>Kings XI Punjab</td>\n",
       "      <td>Chennai Super Kings</td>\n",
       "      <td>bat</td>\n",
       "      <td>normal</td>\n",
       "      <td>0</td>\n",
       "      <td>Chennai Super Kings</td>\n",
       "      <td>33</td>\n",
       "      <td>0</td>\n",
       "      <td>MEK Hussey</td>\n",
       "      <td>Punjab Cricket Association Stadium, Mohali</td>\n",
       "      <td>MR Benson</td>\n",
       "      <td>SL Shastri</td>\n",
       "      <td>NaN</td>\n",
       "    </tr>\n",
       "    <tr>\n",
       "      <th>2</th>\n",
       "      <td>3</td>\n",
       "      <td>2008</td>\n",
       "      <td>Delhi</td>\n",
       "      <td>2008-04-19</td>\n",
       "      <td>Rajasthan Royals</td>\n",
       "      <td>Delhi Daredevils</td>\n",
       "      <td>Rajasthan Royals</td>\n",
       "      <td>bat</td>\n",
       "      <td>normal</td>\n",
       "      <td>0</td>\n",
       "      <td>Delhi Daredevils</td>\n",
       "      <td>0</td>\n",
       "      <td>9</td>\n",
       "      <td>MF Maharoof</td>\n",
       "      <td>Feroz Shah Kotla</td>\n",
       "      <td>Aleem Dar</td>\n",
       "      <td>GA Pratapkumar</td>\n",
       "      <td>NaN</td>\n",
       "    </tr>\n",
       "    <tr>\n",
       "      <th>3</th>\n",
       "      <td>4</td>\n",
       "      <td>2008</td>\n",
       "      <td>Mumbai</td>\n",
       "      <td>2008-04-20</td>\n",
       "      <td>Mumbai Indians</td>\n",
       "      <td>Royal Challengers Bangalore</td>\n",
       "      <td>Mumbai Indians</td>\n",
       "      <td>bat</td>\n",
       "      <td>normal</td>\n",
       "      <td>0</td>\n",
       "      <td>Royal Challengers Bangalore</td>\n",
       "      <td>0</td>\n",
       "      <td>5</td>\n",
       "      <td>MV Boucher</td>\n",
       "      <td>Wankhede Stadium</td>\n",
       "      <td>SJ Davis</td>\n",
       "      <td>DJ Harper</td>\n",
       "      <td>NaN</td>\n",
       "    </tr>\n",
       "    <tr>\n",
       "      <th>4</th>\n",
       "      <td>5</td>\n",
       "      <td>2008</td>\n",
       "      <td>Kolkata</td>\n",
       "      <td>2008-04-20</td>\n",
       "      <td>Deccan Chargers</td>\n",
       "      <td>Kolkata Knight Riders</td>\n",
       "      <td>Deccan Chargers</td>\n",
       "      <td>bat</td>\n",
       "      <td>normal</td>\n",
       "      <td>0</td>\n",
       "      <td>Kolkata Knight Riders</td>\n",
       "      <td>0</td>\n",
       "      <td>5</td>\n",
       "      <td>DJ Hussey</td>\n",
       "      <td>Eden Gardens</td>\n",
       "      <td>BF Bowden</td>\n",
       "      <td>K Hariharan</td>\n",
       "      <td>NaN</td>\n",
       "    </tr>\n",
       "  </tbody>\n",
       "</table>\n",
       "</div>"
      ],
      "text/plain": [
       "   id  season        city        date                  team1  \\\n",
       "0   1    2008   Bangalore  2008-04-18  Kolkata Knight Riders   \n",
       "1   2    2008  Chandigarh  2008-04-19    Chennai Super Kings   \n",
       "2   3    2008       Delhi  2008-04-19       Rajasthan Royals   \n",
       "3   4    2008      Mumbai  2008-04-20         Mumbai Indians   \n",
       "4   5    2008     Kolkata  2008-04-20        Deccan Chargers   \n",
       "\n",
       "                         team2                  toss_winner toss_decision  \\\n",
       "0  Royal Challengers Bangalore  Royal Challengers Bangalore         field   \n",
       "1              Kings XI Punjab          Chennai Super Kings           bat   \n",
       "2             Delhi Daredevils             Rajasthan Royals           bat   \n",
       "3  Royal Challengers Bangalore               Mumbai Indians           bat   \n",
       "4        Kolkata Knight Riders              Deccan Chargers           bat   \n",
       "\n",
       "   result  dl_applied                       winner  win_by_runs  \\\n",
       "0  normal           0        Kolkata Knight Riders          140   \n",
       "1  normal           0          Chennai Super Kings           33   \n",
       "2  normal           0             Delhi Daredevils            0   \n",
       "3  normal           0  Royal Challengers Bangalore            0   \n",
       "4  normal           0        Kolkata Knight Riders            0   \n",
       "\n",
       "   win_by_wickets player_of_match                                       venue  \\\n",
       "0               0     BB McCullum                       M Chinnaswamy Stadium   \n",
       "1               0      MEK Hussey  Punjab Cricket Association Stadium, Mohali   \n",
       "2               9     MF Maharoof                            Feroz Shah Kotla   \n",
       "3               5      MV Boucher                            Wankhede Stadium   \n",
       "4               5       DJ Hussey                                Eden Gardens   \n",
       "\n",
       "     umpire1         umpire2  umpire3  \n",
       "0  Asad Rauf     RE Koertzen      NaN  \n",
       "1  MR Benson      SL Shastri      NaN  \n",
       "2  Aleem Dar  GA Pratapkumar      NaN  \n",
       "3   SJ Davis       DJ Harper      NaN  \n",
       "4  BF Bowden     K Hariharan      NaN  "
      ]
     },
     "execution_count": 35,
     "metadata": {},
     "output_type": "execute_result"
    }
   ],
   "source": [
    "df.head()"
   ]
  },
  {
   "cell_type": "markdown",
   "metadata": {},
   "source": [
    "### Teams"
   ]
  },
  {
   "cell_type": "code",
   "execution_count": 36,
   "metadata": {
    "scrolled": true
   },
   "outputs": [
    {
     "data": {
      "text/plain": [
       "['Kolkata Knight Riders',\n",
       " 'Chennai Super Kings',\n",
       " 'Rajasthan Royals',\n",
       " 'Mumbai Indians',\n",
       " 'Deccan Chargers',\n",
       " 'Kings XI Punjab',\n",
       " 'Royal Challengers Bangalore',\n",
       " 'Delhi Daredevils',\n",
       " 'Kochi Tuskers Kerala',\n",
       " 'Pune Warriors',\n",
       " 'Sunrisers Hyderabad',\n",
       " 'Rising Pune Supergiants',\n",
       " 'Gujarat Lions']"
      ]
     },
     "execution_count": 36,
     "metadata": {},
     "output_type": "execute_result"
    }
   ],
   "source": [
    "teams = list(df['team1'].unique())\n",
    "teams"
   ]
  },
  {
   "cell_type": "markdown",
   "metadata": {},
   "source": [
    "### Ground Map Processing"
   ]
  },
  {
   "cell_type": "markdown",
   "metadata": {},
   "source": [
    "### Grounds"
   ]
  },
  {
   "cell_type": "code",
   "execution_count": 37,
   "metadata": {},
   "outputs": [
    {
     "data": {
      "text/plain": [
       "['M Chinnaswamy Stadium',\n",
       " 'Punjab Cricket Association Stadium, Mohali',\n",
       " 'Feroz Shah Kotla',\n",
       " 'Wankhede Stadium',\n",
       " 'Eden Gardens',\n",
       " 'Sawai Mansingh Stadium',\n",
       " 'Rajiv Gandhi International Stadium, Uppal',\n",
       " 'MA Chidambaram Stadium, Chepauk',\n",
       " 'Dr DY Patil Sports Academy',\n",
       " 'Newlands',\n",
       " \"St George's Park\",\n",
       " 'Kingsmead',\n",
       " 'SuperSport Park',\n",
       " 'Buffalo Park',\n",
       " 'New Wanderers Stadium',\n",
       " 'De Beers Diamond Oval',\n",
       " 'OUTsurance Oval',\n",
       " 'Brabourne Stadium',\n",
       " 'Sardar Patel Stadium, Motera',\n",
       " 'Barabati Stadium',\n",
       " 'Vidarbha Cricket Association Stadium, Jamtha',\n",
       " 'Himachal Pradesh Cricket Association Stadium',\n",
       " 'Nehru Stadium',\n",
       " 'Holkar Cricket Stadium',\n",
       " 'Dr. Y.S. Rajasekhara Reddy ACA-VDCA Cricket Stadium',\n",
       " 'Subrata Roy Sahara Stadium',\n",
       " 'Shaheed Veer Narayan Singh International Stadium',\n",
       " 'JSCA International Stadium Complex',\n",
       " 'Sheikh Zayed Stadium',\n",
       " 'Sharjah Cricket Stadium',\n",
       " 'Dubai International Cricket Stadium',\n",
       " 'Maharashtra Cricket Association Stadium',\n",
       " 'Punjab Cricket Association IS Bindra Stadium, Mohali',\n",
       " 'Saurashtra Cricket Association Stadium',\n",
       " 'Green Park']"
      ]
     },
     "execution_count": 37,
     "metadata": {},
     "output_type": "execute_result"
    }
   ],
   "source": [
    "grounds = list(df['venue'].unique())\n",
    "grounds"
   ]
  },
  {
   "cell_type": "code",
   "execution_count": 38,
   "metadata": {},
   "outputs": [],
   "source": [
    "non_indian_grounds = [\n",
    "     'Newlands',\n",
    "     \"St George's Park\",\n",
    "     'Kingsmead',\n",
    "     'SuperSport Park',\n",
    "     'Buffalo Park',\n",
    "     'New Wanderers Stadium',\n",
    "     'De Beers Diamond Oval',\n",
    "     'OUTsurance Oval',\n",
    "     'Sheikh Zayed Stadium',\n",
    "     'Sharjah Cricket Stadium',\n",
    "     'Dubai International Cricket Stadium',\n",
    "]\n",
    "\n",
    "def is_indian_ground(ground_name):\n",
    "    return False if ground_name in non_indian_grounds else True"
   ]
  },
  {
   "cell_type": "code",
   "execution_count": 39,
   "metadata": {},
   "outputs": [],
   "source": [
    "def get_grounds_results(team_name):\n",
    "    # append the team1/team2 appearance\n",
    "    df1 = df[df['team1'] == team_name]\n",
    "    df2 = df[df['team2'] == team_name]\n",
    "    _df = df1.append(df2)\n",
    "    \n",
    "    # win and lose for each ground\n",
    "    _won = Counter(filter(lambda g: is_indian_ground(g), list(_df[_df['winner'] == team_name]['venue'])))\n",
    "    _lost = Counter(filter(lambda g: is_indian_ground(g), list(_df[_df['winner'] != team_name]['venue'])))\n",
    "    \n",
    "    # total grounds the team has played on\n",
    "    _grounds = set(_won).union(set(_lost))\n",
    "    \n",
    "    _matches = []\n",
    "    \n",
    "    # Mohali ground has multiple names in dataset\n",
    "    mohali_v1_name = \"Punjab Cricket Association Stadium, Mohali\"\n",
    "    mohali_v2_name = \"Punjab Cricket Association IS Bindra Stadium, Mohali\"\n",
    "    mohali_v2_won, mohali_v2_lost = _won.get(mohali_v2_name, 0), _lost.get(mohali_v2_name, 0)\n",
    "    \n",
    "    # iterate over all grounds\n",
    "    for g in list(_grounds):\n",
    "        # ignore the mohali grounds\n",
    "        if g not in [mohali_v1_name, mohali_v2_name]:\n",
    "            _matches.append({\n",
    "                'ground': g,\n",
    "                'won': _won.get(g, 0),\n",
    "                'lost': _lost.get(g, 0),\n",
    "            })  \n",
    "            \n",
    "    # unify the mohali results\n",
    "    _matches.append({\n",
    "        'ground': mohali_v1_name,\n",
    "        'won': _won.get(mohali_v1_name, 0) + (mohali_v2_won),\n",
    "        'lost': _lost.get(mohali_v1_name, 0) + (mohali_v2_lost),\n",
    "    })\n",
    "    \n",
    "    result = {\n",
    "        team_name: _matches\n",
    "    }\n",
    "    \n",
    "    return result"
   ]
  },
  {
   "cell_type": "code",
   "execution_count": 40,
   "metadata": {},
   "outputs": [
    {
     "name": "stdout",
     "output_type": "stream",
     "text": [
      "--------------------\n",
      " Kolkata Knight Riders\n",
      "{'Kolkata Knight Riders': [{'ground': 'Maharashtra Cricket Association Stadium', 'won': 2, 'lost': 0}, {'ground': 'Sardar Patel Stadium, Motera', 'won': 0, 'lost': 2}, {'ground': 'Nehru Stadium', 'won': 0, 'lost': 1}, {'ground': 'Dr DY Patil Sports Academy', 'won': 2, 'lost': 0}, {'ground': 'Sawai Mansingh Stadium', 'won': 1, 'lost': 3}, {'ground': 'Shaheed Veer Narayan Singh International Stadium', 'won': 0, 'lost': 1}, {'ground': 'Dr. Y.S. Rajasekhara Reddy ACA-VDCA Cricket Stadium', 'won': 0, 'lost': 1}, {'ground': 'MA Chidambaram Stadium, Chepauk', 'won': 2, 'lost': 5}, {'ground': 'Rajiv Gandhi International Stadium, Uppal', 'won': 4, 'lost': 1}, {'ground': 'JSCA International Stadium Complex', 'won': 1, 'lost': 2}, {'ground': 'Brabourne Stadium', 'won': 0, 'lost': 2}, {'ground': 'Eden Gardens', 'won': 33, 'lost': 18}, {'ground': 'Feroz Shah Kotla', 'won': 4, 'lost': 3}, {'ground': 'M Chinnaswamy Stadium', 'won': 4, 'lost': 4}, {'ground': 'Barabati Stadium', 'won': 3, 'lost': 0}, {'ground': 'Green Park', 'won': 0, 'lost': 1}, {'ground': 'Wankhede Stadium', 'won': 1, 'lost': 5}, {'ground': 'Subrata Roy Sahara Stadium', 'won': 3, 'lost': 0}, {'ground': 'Punjab Cricket Association Stadium, Mohali', 'won': 3, 'lost': 2}]}\n",
      "--------------------\n",
      " Chennai Super Kings\n",
      "{'Chennai Super Kings': [{'ground': 'Sardar Patel Stadium, Motera', 'won': 0, 'lost': 2}, {'ground': 'Dr DY Patil Sports Academy', 'won': 3, 'lost': 1}, {'ground': 'Sawai Mansingh Stadium', 'won': 2, 'lost': 2}, {'ground': 'Vidarbha Cricket Association Stadium, Jamtha', 'won': 0, 'lost': 1}, {'ground': 'Rajiv Gandhi International Stadium, Uppal', 'won': 2, 'lost': 1}, {'ground': 'Eden Gardens', 'won': 4, 'lost': 5}, {'ground': 'M Chinnaswamy Stadium', 'won': 4, 'lost': 3}, {'ground': 'Himachal Pradesh Cricket Association Stadium', 'won': 1, 'lost': 1}, {'ground': 'Nehru Stadium', 'won': 0, 'lost': 1}, {'ground': 'Shaheed Veer Narayan Singh International Stadium', 'won': 0, 'lost': 1}, {'ground': 'Dr. Y.S. Rajasekhara Reddy ACA-VDCA Cricket Stadium', 'won': 1, 'lost': 0}, {'ground': 'MA Chidambaram Stadium, Chepauk', 'won': 33, 'lost': 14}, {'ground': 'JSCA International Stadium Complex', 'won': 3, 'lost': 2}, {'ground': 'Brabourne Stadium', 'won': 1, 'lost': 1}, {'ground': 'Feroz Shah Kotla', 'won': 5, 'lost': 1}, {'ground': 'Barabati Stadium', 'won': 0, 'lost': 1}, {'ground': 'Wankhede Stadium', 'won': 4, 'lost': 6}, {'ground': 'Subrata Roy Sahara Stadium', 'won': 1, 'lost': 1}, {'ground': 'Punjab Cricket Association Stadium, Mohali', 'won': 3, 'lost': 1}]}\n",
      "--------------------\n",
      " Rajasthan Royals\n",
      "{'Rajasthan Royals': [{'ground': 'Sardar Patel Stadium, Motera', 'won': 7, 'lost': 5}, {'ground': 'Maharashtra Cricket Association Stadium', 'won': 1, 'lost': 1}, {'ground': 'Dr DY Patil Sports Academy', 'won': 1, 'lost': 1}, {'ground': 'Sawai Mansingh Stadium', 'won': 24, 'lost': 9}, {'ground': 'Dr. Y.S. Rajasekhara Reddy ACA-VDCA Cricket Stadium', 'won': 1, 'lost': 0}, {'ground': 'MA Chidambaram Stadium, Chepauk', 'won': 1, 'lost': 5}, {'ground': 'Vidarbha Cricket Association Stadium, Jamtha', 'won': 1, 'lost': 0}, {'ground': 'Rajiv Gandhi International Stadium, Uppal', 'won': 2, 'lost': 2}, {'ground': 'JSCA International Stadium Complex', 'won': 0, 'lost': 1}, {'ground': 'Brabourne Stadium', 'won': 2, 'lost': 2}, {'ground': 'Eden Gardens', 'won': 1, 'lost': 5}, {'ground': 'Feroz Shah Kotla', 'won': 4, 'lost': 3}, {'ground': 'M Chinnaswamy Stadium', 'won': 3, 'lost': 3}, {'ground': 'Holkar Cricket Stadium', 'won': 0, 'lost': 1}, {'ground': 'Wankhede Stadium', 'won': 2, 'lost': 4}, {'ground': 'Subrata Roy Sahara Stadium', 'won': 1, 'lost': 1}, {'ground': 'Punjab Cricket Association Stadium, Mohali', 'won': 3, 'lost': 3}]}\n",
      "--------------------\n",
      " Mumbai Indians\n",
      "{'Mumbai Indians': [{'ground': 'Sardar Patel Stadium, Motera', 'won': 1, 'lost': 1}, {'ground': 'Maharashtra Cricket Association Stadium', 'won': 1, 'lost': 0}, {'ground': 'Dr DY Patil Sports Academy', 'won': 5, 'lost': 2}, {'ground': 'Sawai Mansingh Stadium', 'won': 2, 'lost': 3}, {'ground': 'Dr. Y.S. Rajasekhara Reddy ACA-VDCA Cricket Stadium', 'won': 2, 'lost': 2}, {'ground': 'MA Chidambaram Stadium, Chepauk', 'won': 3, 'lost': 3}, {'ground': 'Rajiv Gandhi International Stadium, Uppal', 'won': 4, 'lost': 2}, {'ground': 'Brabourne Stadium', 'won': 6, 'lost': 2}, {'ground': 'Eden Gardens', 'won': 8, 'lost': 2}, {'ground': 'Feroz Shah Kotla', 'won': 2, 'lost': 6}, {'ground': 'M Chinnaswamy Stadium', 'won': 6, 'lost': 2}, {'ground': 'Barabati Stadium', 'won': 0, 'lost': 1}, {'ground': 'Green Park', 'won': 0, 'lost': 1}, {'ground': 'Wankhede Stadium', 'won': 29, 'lost': 16}, {'ground': 'Subrata Roy Sahara Stadium', 'won': 2, 'lost': 0}, {'ground': 'Himachal Pradesh Cricket Association Stadium', 'won': 0, 'lost': 1}, {'ground': 'Punjab Cricket Association Stadium, Mohali', 'won': 4, 'lost': 3}]}\n",
      "--------------------\n",
      " Deccan Chargers\n",
      "{'Deccan Chargers': [{'ground': 'Sardar Patel Stadium, Motera', 'won': 0, 'lost': 1}, {'ground': 'Nehru Stadium', 'won': 1, 'lost': 0}, {'ground': 'Dr DY Patil Sports Academy', 'won': 2, 'lost': 4}, {'ground': 'Sawai Mansingh Stadium', 'won': 0, 'lost': 2}, {'ground': 'Dr. Y.S. Rajasekhara Reddy ACA-VDCA Cricket Stadium', 'won': 0, 'lost': 2}, {'ground': 'MA Chidambaram Stadium, Chepauk', 'won': 2, 'lost': 2}, {'ground': 'Vidarbha Cricket Association Stadium, Jamtha', 'won': 2, 'lost': 1}, {'ground': 'Rajiv Gandhi International Stadium, Uppal', 'won': 3, 'lost': 15}, {'ground': 'Brabourne Stadium', 'won': 0, 'lost': 1}, {'ground': 'Eden Gardens', 'won': 0, 'lost': 3}, {'ground': 'Feroz Shah Kotla', 'won': 2, 'lost': 2}, {'ground': 'M Chinnaswamy Stadium', 'won': 1, 'lost': 2}, {'ground': 'Barabati Stadium', 'won': 3, 'lost': 1}, {'ground': 'Wankhede Stadium', 'won': 1, 'lost': 1}, {'ground': 'Subrata Roy Sahara Stadium', 'won': 1, 'lost': 0}, {'ground': 'Himachal Pradesh Cricket Association Stadium', 'won': 2, 'lost': 0}, {'ground': 'Punjab Cricket Association Stadium, Mohali', 'won': 0, 'lost': 2}]}\n",
      "--------------------\n",
      " Kings XI Punjab\n",
      "{'Kings XI Punjab': [{'ground': 'Sardar Patel Stadium, Motera', 'won': 1, 'lost': 0}, {'ground': 'Maharashtra Cricket Association Stadium', 'won': 0, 'lost': 3}, {'ground': 'Dr DY Patil Sports Academy', 'won': 0, 'lost': 1}, {'ground': 'Sawai Mansingh Stadium', 'won': 0, 'lost': 4}, {'ground': 'Dr. Y.S. Rajasekhara Reddy ACA-VDCA Cricket Stadium', 'won': 1, 'lost': 1}, {'ground': 'MA Chidambaram Stadium, Chepauk', 'won': 2, 'lost': 3}, {'ground': 'Rajiv Gandhi International Stadium, Uppal', 'won': 4, 'lost': 3}, {'ground': 'Brabourne Stadium', 'won': 0, 'lost': 1}, {'ground': 'Eden Gardens', 'won': 2, 'lost': 6}, {'ground': 'Feroz Shah Kotla', 'won': 4, 'lost': 4}, {'ground': 'M Chinnaswamy Stadium', 'won': 4, 'lost': 5}, {'ground': 'Barabati Stadium', 'won': 1, 'lost': 2}, {'ground': 'Holkar Cricket Stadium', 'won': 1, 'lost': 0}, {'ground': 'Wankhede Stadium', 'won': 4, 'lost': 4}, {'ground': 'Subrata Roy Sahara Stadium', 'won': 1, 'lost': 1}, {'ground': 'Saurashtra Cricket Association Stadium', 'won': 1, 'lost': 0}, {'ground': 'Himachal Pradesh Cricket Association Stadium', 'won': 5, 'lost': 4}, {'ground': 'Punjab Cricket Association Stadium, Mohali', 'won': 20, 'lost': 22}]}\n",
      "--------------------\n",
      " Royal Challengers Bangalore\n",
      "{'Royal Challengers Bangalore': [{'ground': 'Maharashtra Cricket Association Stadium', 'won': 2, 'lost': 0}, {'ground': 'Sardar Patel Stadium, Motera', 'won': 1, 'lost': 0}, {'ground': 'Nehru Stadium', 'won': 1, 'lost': 0}, {'ground': 'Dr DY Patil Sports Academy', 'won': 1, 'lost': 1}, {'ground': 'Sawai Mansingh Stadium', 'won': 3, 'lost': 2}, {'ground': 'Shaheed Veer Narayan Singh International Stadium', 'won': 1, 'lost': 0}, {'ground': 'MA Chidambaram Stadium, Chepauk', 'won': 2, 'lost': 6}, {'ground': 'Vidarbha Cricket Association Stadium, Jamtha', 'won': 0, 'lost': 1}, {'ground': 'Rajiv Gandhi International Stadium, Uppal', 'won': 2, 'lost': 5}, {'ground': 'JSCA International Stadium Complex', 'won': 1, 'lost': 2}, {'ground': 'Brabourne Stadium', 'won': 1, 'lost': 0}, {'ground': 'Eden Gardens', 'won': 3, 'lost': 4}, {'ground': 'Feroz Shah Kotla', 'won': 4, 'lost': 2}, {'ground': 'M Chinnaswamy Stadium', 'won': 29, 'lost': 27}, {'ground': 'Wankhede Stadium', 'won': 3, 'lost': 4}, {'ground': 'Subrata Roy Sahara Stadium', 'won': 2, 'lost': 0}, {'ground': 'Saurashtra Cricket Association Stadium', 'won': 0, 'lost': 1}, {'ground': 'Himachal Pradesh Cricket Association Stadium', 'won': 0, 'lost': 1}, {'ground': 'Punjab Cricket Association Stadium, Mohali', 'won': 3, 'lost': 3}]}\n",
      "--------------------\n",
      " Delhi Daredevils\n",
      "{'Delhi Daredevils': [{'ground': 'Sardar Patel Stadium, Motera', 'won': 1, 'lost': 1}, {'ground': 'Maharashtra Cricket Association Stadium', 'won': 1, 'lost': 0}, {'ground': 'Nehru Stadium', 'won': 1, 'lost': 0}, {'ground': 'Dr DY Patil Sports Academy', 'won': 1, 'lost': 1}, {'ground': 'Shaheed Veer Narayan Singh International Stadium', 'won': 4, 'lost': 2}, {'ground': 'Sawai Mansingh Stadium', 'won': 1, 'lost': 3}, {'ground': 'Dr. Y.S. Rajasekhara Reddy ACA-VDCA Cricket Stadium', 'won': 1, 'lost': 2}, {'ground': 'MA Chidambaram Stadium, Chepauk', 'won': 2, 'lost': 5}, {'ground': 'Rajiv Gandhi International Stadium, Uppal', 'won': 4, 'lost': 1}, {'ground': 'Brabourne Stadium', 'won': 0, 'lost': 2}, {'ground': 'Eden Gardens', 'won': 1, 'lost': 5}, {'ground': 'Feroz Shah Kotla', 'won': 19, 'lost': 30}, {'ground': 'M Chinnaswamy Stadium', 'won': 3, 'lost': 4}, {'ground': 'Barabati Stadium', 'won': 0, 'lost': 1}, {'ground': 'Wankhede Stadium', 'won': 1, 'lost': 5}, {'ground': 'Subrata Roy Sahara Stadium', 'won': 1, 'lost': 2}, {'ground': 'Saurashtra Cricket Association Stadium', 'won': 1, 'lost': 0}, {'ground': 'Himachal Pradesh Cricket Association Stadium', 'won': 1, 'lost': 2}, {'ground': 'Punjab Cricket Association Stadium, Mohali', 'won': 1, 'lost': 3}]}\n",
      "--------------------\n",
      " Kochi Tuskers Kerala\n",
      "{'Kochi Tuskers Kerala': [{'ground': 'Eden Gardens', 'won': 1, 'lost': 0}, {'ground': 'Feroz Shah Kotla', 'won': 1, 'lost': 0}, {'ground': 'M Chinnaswamy Stadium', 'won': 0, 'lost': 1}, {'ground': 'Nehru Stadium', 'won': 2, 'lost': 3}, {'ground': 'Dr DY Patil Sports Academy', 'won': 0, 'lost': 1}, {'ground': 'Holkar Cricket Stadium', 'won': 1, 'lost': 1}, {'ground': 'Wankhede Stadium', 'won': 1, 'lost': 0}, {'ground': 'Sawai Mansingh Stadium', 'won': 0, 'lost': 1}, {'ground': 'MA Chidambaram Stadium, Chepauk', 'won': 0, 'lost': 1}, {'ground': 'Punjab Cricket Association Stadium, Mohali', 'won': 0, 'lost': 0}]}\n",
      "--------------------\n",
      " Pune Warriors\n",
      "{'Pune Warriors': [{'ground': 'JSCA International Stadium Complex', 'won': 1, 'lost': 0}, {'ground': 'Rajiv Gandhi International Stadium, Uppal', 'won': 1, 'lost': 1}, {'ground': 'Eden Gardens', 'won': 0, 'lost': 1}, {'ground': 'Feroz Shah Kotla', 'won': 1, 'lost': 1}, {'ground': 'M Chinnaswamy Stadium', 'won': 0, 'lost': 3}, {'ground': 'Barabati Stadium', 'won': 0, 'lost': 1}, {'ground': 'Dr DY Patil Sports Academy', 'won': 2, 'lost': 5}, {'ground': 'Wankhede Stadium', 'won': 1, 'lost': 2}, {'ground': 'Subrata Roy Sahara Stadium', 'won': 4, 'lost': 12}, {'ground': 'Sawai Mansingh Stadium', 'won': 0, 'lost': 3}, {'ground': 'Shaheed Veer Narayan Singh International Stadium', 'won': 0, 'lost': 1}, {'ground': 'MA Chidambaram Stadium, Chepauk', 'won': 1, 'lost': 2}, {'ground': 'Punjab Cricket Association Stadium, Mohali', 'won': 1, 'lost': 2}]}\n",
      "--------------------\n",
      " Sunrisers Hyderabad\n",
      "{'Sunrisers Hyderabad': [{'ground': 'Sardar Patel Stadium, Motera', 'won': 1, 'lost': 0}, {'ground': 'Shaheed Veer Narayan Singh International Stadium', 'won': 1, 'lost': 1}, {'ground': 'Sawai Mansingh Stadium', 'won': 0, 'lost': 1}, {'ground': 'Dr. Y.S. Rajasekhara Reddy ACA-VDCA Cricket Stadium', 'won': 3, 'lost': 2}, {'ground': 'MA Chidambaram Stadium, Chepauk', 'won': 0, 'lost': 2}, {'ground': 'Rajiv Gandhi International Stadium, Uppal', 'won': 14, 'lost': 9}, {'ground': 'JSCA International Stadium Complex', 'won': 1, 'lost': 0}, {'ground': 'Brabourne Stadium', 'won': 1, 'lost': 0}, {'ground': 'Eden Gardens', 'won': 0, 'lost': 4}, {'ground': 'Feroz Shah Kotla', 'won': 4, 'lost': 1}, {'ground': 'M Chinnaswamy Stadium', 'won': 2, 'lost': 3}, {'ground': 'Wankhede Stadium', 'won': 0, 'lost': 2}, {'ground': 'Subrata Roy Sahara Stadium', 'won': 1, 'lost': 0}, {'ground': 'Saurashtra Cricket Association Stadium', 'won': 1, 'lost': 0}, {'ground': 'Punjab Cricket Association Stadium, Mohali', 'won': 3, 'lost': 0}]}\n",
      "--------------------\n",
      " Rising Pune Supergiants\n",
      "{'Rising Pune Supergiants': [{'ground': 'Rajiv Gandhi International Stadium, Uppal', 'won': 1, 'lost': 0}, {'ground': 'Eden Gardens', 'won': 0, 'lost': 1}, {'ground': 'Feroz Shah Kotla', 'won': 1, 'lost': 0}, {'ground': 'Maharashtra Cricket Association Stadium', 'won': 0, 'lost': 4}, {'ground': 'M Chinnaswamy Stadium', 'won': 0, 'lost': 1}, {'ground': 'Wankhede Stadium', 'won': 1, 'lost': 0}, {'ground': 'Dr. Y.S. Rajasekhara Reddy ACA-VDCA Cricket Stadium', 'won': 2, 'lost': 1}, {'ground': 'Saurashtra Cricket Association Stadium', 'won': 0, 'lost': 1}, {'ground': 'Punjab Cricket Association Stadium, Mohali', 'won': 0, 'lost': 1}]}\n",
      "--------------------\n",
      " Gujarat Lions\n",
      "{'Gujarat Lions': [{'ground': 'Rajiv Gandhi International Stadium, Uppal', 'won': 0, 'lost': 1}, {'ground': 'Eden Gardens', 'won': 1, 'lost': 0}, {'ground': 'Maharashtra Cricket Association Stadium', 'won': 1, 'lost': 0}, {'ground': 'Feroz Shah Kotla', 'won': 1, 'lost': 1}, {'ground': 'M Chinnaswamy Stadium', 'won': 0, 'lost': 2}, {'ground': 'Green Park', 'won': 2, 'lost': 0}, {'ground': 'Wankhede Stadium', 'won': 1, 'lost': 0}, {'ground': 'Saurashtra Cricket Association Stadium', 'won': 2, 'lost': 3}, {'ground': 'Punjab Cricket Association Stadium, Mohali', 'won': 1, 'lost': 0}]}\n"
     ]
    }
   ],
   "source": [
    "for t in teams:\n",
    "    print('--------------------\\n', t)\n",
    "    print(get_grounds_results(t))"
   ]
  },
  {
   "cell_type": "markdown",
   "metadata": {},
   "source": [
    "### Toss Effect Processing"
   ]
  },
  {
   "cell_type": "code",
   "execution_count": 41,
   "metadata": {},
   "outputs": [
    {
     "data": {
      "text/plain": [
       "(577, 18)"
      ]
     },
     "execution_count": 41,
     "metadata": {},
     "output_type": "execute_result"
    }
   ],
   "source": [
    "df.shape"
   ]
  },
  {
   "cell_type": "code",
   "execution_count": 42,
   "metadata": {},
   "outputs": [
    {
     "data": {
      "text/plain": [
       "(291, 18)"
      ]
     },
     "execution_count": 42,
     "metadata": {},
     "output_type": "execute_result"
    }
   ],
   "source": [
    "df[df['toss_winner'] == df['winner']].shape"
   ]
  },
  {
   "cell_type": "code",
   "execution_count": 43,
   "metadata": {},
   "outputs": [],
   "source": [
    "def get_toss_winning_percentage(team):\n",
    "    # matches\n",
    "    _df = df[df['team1'] == team].append(df[df['team2'] == team])\n",
    "    total_matches = _df.shape[0]\n",
    "    \n",
    "    # toss-won matches\n",
    "    toss_won_df = _df[_df['toss_winner'] == team]\n",
    "    # toss-lost matches\n",
    "    toss_lost_df = _df[_df['toss_winner'] != team]\n",
    "    \n",
    "    # toss-won match-won\n",
    "    toss_won_match_won_df = toss_won_df[toss_won_df['winner'] == team]\n",
    "    # toss-won match-lost\n",
    "    toss_won_match_lost_df = toss_won_df[toss_won_df['winner'] != team]\n",
    "    \n",
    "    # toss-lost match-won\n",
    "    toss_lost_match_won_df = toss_lost_df[toss_lost_df['winner'] == team]\n",
    "    # toss-lost match-lost\n",
    "    toss_lost_match_lost_df = toss_lost_df[toss_lost_df['winner'] != team]\n",
    "    \n",
    "    return {\n",
    "        \"team\": team,\n",
    "        \"total_match\": total_matches,\n",
    "        \"won_toss\": toss_won_df.shape[0],\n",
    "        \"won_toss_won_match\": toss_won_match_won_df.shape[0],\n",
    "        \"won_toss_lost_match\": toss_won_match_lost_df.shape[0],\n",
    "        \"lost_toss\": toss_lost_df.shape[0],\n",
    "        \"lost_toss_won_match\": toss_lost_match_won_df.shape[0],\n",
    "        \"lost_toss_lost_match\": toss_lost_match_lost_df.shape[0]\n",
    "    }"
   ]
  },
  {
   "cell_type": "code",
   "execution_count": 44,
   "metadata": {},
   "outputs": [
    {
     "name": "stdout",
     "output_type": "stream",
     "text": [
      "{'team': 'Kolkata Knight Riders', 'total_match': 132, 'won_toss': 69, 'won_toss_won_match': 38, 'won_toss_lost_match': 31, 'lost_toss': 63, 'lost_toss_won_match': 30, 'lost_toss_lost_match': 33}\n",
      "{'team': 'Chennai Super Kings', 'total_match': 131, 'won_toss': 66, 'won_toss_won_match': 42, 'won_toss_lost_match': 24, 'lost_toss': 65, 'lost_toss_won_match': 37, 'lost_toss_lost_match': 28}\n",
      "{'team': 'Rajasthan Royals', 'total_match': 118, 'won_toss': 63, 'won_toss_won_match': 34, 'won_toss_lost_match': 29, 'lost_toss': 55, 'lost_toss_won_match': 29, 'lost_toss_lost_match': 26}\n",
      "{'team': 'Mumbai Indians', 'total_match': 140, 'won_toss': 74, 'won_toss_won_match': 41, 'won_toss_lost_match': 33, 'lost_toss': 66, 'lost_toss_won_match': 39, 'lost_toss_lost_match': 27}\n",
      "{'team': 'Deccan Chargers', 'total_match': 75, 'won_toss': 43, 'won_toss_won_match': 19, 'won_toss_lost_match': 24, 'lost_toss': 32, 'lost_toss_won_match': 10, 'lost_toss_lost_match': 22}\n",
      "{'team': 'Kings XI Punjab', 'total_match': 134, 'won_toss': 64, 'won_toss_won_match': 26, 'won_toss_lost_match': 38, 'lost_toss': 70, 'lost_toss_won_match': 37, 'lost_toss_lost_match': 33}\n",
      "{'team': 'Royal Challengers Bangalore', 'total_match': 139, 'won_toss': 61, 'won_toss_won_match': 33, 'won_toss_lost_match': 28, 'lost_toss': 78, 'lost_toss_won_match': 37, 'lost_toss_lost_match': 41}\n",
      "{'team': 'Delhi Daredevils', 'total_match': 133, 'won_toss': 64, 'won_toss_won_match': 28, 'won_toss_lost_match': 36, 'lost_toss': 69, 'lost_toss_won_match': 28, 'lost_toss_lost_match': 41}\n",
      "{'team': 'Kochi Tuskers Kerala', 'total_match': 14, 'won_toss': 8, 'won_toss_won_match': 4, 'won_toss_lost_match': 4, 'lost_toss': 6, 'lost_toss_won_match': 2, 'lost_toss_lost_match': 4}\n",
      "{'team': 'Pune Warriors', 'total_match': 46, 'won_toss': 20, 'won_toss_won_match': 3, 'won_toss_lost_match': 17, 'lost_toss': 26, 'lost_toss_won_match': 9, 'lost_toss_lost_match': 17}\n",
      "{'team': 'Sunrisers Hyderabad', 'total_match': 62, 'won_toss': 30, 'won_toss_won_match': 14, 'won_toss_lost_match': 16, 'lost_toss': 32, 'lost_toss_won_match': 20, 'lost_toss_lost_match': 12}\n",
      "{'team': 'Rising Pune Supergiants', 'total_match': 14, 'won_toss': 7, 'won_toss_won_match': 3, 'won_toss_lost_match': 4, 'lost_toss': 7, 'lost_toss_won_match': 2, 'lost_toss_lost_match': 5}\n",
      "{'team': 'Gujarat Lions', 'total_match': 16, 'won_toss': 8, 'won_toss_won_match': 6, 'won_toss_lost_match': 2, 'lost_toss': 8, 'lost_toss_won_match': 3, 'lost_toss_lost_match': 5}\n"
     ]
    }
   ],
   "source": [
    "for team in teams:\n",
    "    print(get_toss_winning_percentage(team))"
   ]
  },
  {
   "cell_type": "markdown",
   "metadata": {},
   "source": [
    "### Slope Chart Processing"
   ]
  },
  {
   "cell_type": "code",
   "execution_count": 45,
   "metadata": {},
   "outputs": [
    {
     "data": {
      "text/plain": [
       "{'Chennai Super Kings',\n",
       " 'Deccan Chargers',\n",
       " 'Delhi Daredevils',\n",
       " 'Kings XI Punjab',\n",
       " 'Kolkata Knight Riders',\n",
       " 'Mumbai Indians',\n",
       " 'Rajasthan Royals',\n",
       " 'Royal Challengers Bangalore'}"
      ]
     },
     "execution_count": 45,
     "metadata": {},
     "output_type": "execute_result"
    }
   ],
   "source": [
    "_df = df[df['season'] == 2008]\n",
    "set(_df['team1'].append(_df['team2']))"
   ]
  },
  {
   "cell_type": "code",
   "execution_count": 46,
   "metadata": {},
   "outputs": [
    {
     "data": {
      "text/plain": [
       "{2008: {'Chennai Super Kings': 56,\n",
       "  'Deccan Chargers': 14,\n",
       "  'Delhi Daredevils': 50,\n",
       "  'Kings XI Punjab': 66,\n",
       "  'Kolkata Knight Riders': 46,\n",
       "  'Mumbai Indians': 50,\n",
       "  'Rajasthan Royals': 81,\n",
       "  'Royal Challengers Bangalore': 28},\n",
       " 2009: {'Chennai Super Kings': 57,\n",
       "  'Deccan Chargers': 56,\n",
       "  'Delhi Daredevils': 66,\n",
       "  'Kings XI Punjab': 50,\n",
       "  'Kolkata Knight Riders': 23,\n",
       "  'Mumbai Indians': 38,\n",
       "  'Rajasthan Royals': 46,\n",
       "  'Royal Challengers Bangalore': 56},\n",
       " 2010: {'Chennai Super Kings': 56,\n",
       "  'Deccan Chargers': 50,\n",
       "  'Delhi Daredevils': 50,\n",
       "  'Kings XI Punjab': 28,\n",
       "  'Kolkata Knight Riders': 50,\n",
       "  'Mumbai Indians': 68,\n",
       "  'Rajasthan Royals': 42,\n",
       "  'Royal Challengers Bangalore': 50},\n",
       " 2011: {'Chennai Super Kings': 68,\n",
       "  'Deccan Chargers': 42,\n",
       "  'Delhi Daredevils': 28,\n",
       "  'Kings XI Punjab': 50,\n",
       "  'Kochi Tuskers Kerala': 42,\n",
       "  'Kolkata Knight Riders': 53,\n",
       "  'Mumbai Indians': 62,\n",
       "  'Pune Warriors': 28,\n",
       "  'Rajasthan Royals': 46,\n",
       "  'Royal Challengers Bangalore': 62},\n",
       " 2012: {'Chennai Super Kings': 55,\n",
       "  'Deccan Chargers': 26,\n",
       "  'Delhi Daredevils': 61,\n",
       "  'Kings XI Punjab': 50,\n",
       "  'Kolkata Knight Riders': 70,\n",
       "  'Mumbai Indians': 58,\n",
       "  'Pune Warriors': 25,\n",
       "  'Rajasthan Royals': 43,\n",
       "  'Royal Challengers Bangalore': 53},\n",
       " 2013: {'Chennai Super Kings': 66,\n",
       "  'Delhi Daredevils': 18,\n",
       "  'Kings XI Punjab': 50,\n",
       "  'Kolkata Knight Riders': 37,\n",
       "  'Mumbai Indians': 68,\n",
       "  'Pune Warriors': 25,\n",
       "  'Rajasthan Royals': 61,\n",
       "  'Royal Challengers Bangalore': 56,\n",
       "  'Sunrisers Hyderabad': 58},\n",
       " 2014: {'Chennai Super Kings': 62,\n",
       "  'Delhi Daredevils': 14,\n",
       "  'Kings XI Punjab': 70,\n",
       "  'Kolkata Knight Riders': 68,\n",
       "  'Mumbai Indians': 46,\n",
       "  'Rajasthan Royals': 50,\n",
       "  'Royal Challengers Bangalore': 35,\n",
       "  'Sunrisers Hyderabad': 42},\n",
       " 2015: {'Chennai Super Kings': 58,\n",
       "  'Delhi Daredevils': 35,\n",
       "  'Kings XI Punjab': 21,\n",
       "  'Kolkata Knight Riders': 53,\n",
       "  'Mumbai Indians': 62,\n",
       "  'Rajasthan Royals': 50,\n",
       "  'Royal Challengers Bangalore': 50,\n",
       "  'Sunrisers Hyderabad': 50},\n",
       " 2016: {'Delhi Daredevils': 50,\n",
       "  'Gujarat Lions': 56,\n",
       "  'Kings XI Punjab': 28,\n",
       "  'Kolkata Knight Riders': 53,\n",
       "  'Mumbai Indians': 50,\n",
       "  'Rising Pune Supergiants': 35,\n",
       "  'Royal Challengers Bangalore': 56,\n",
       "  'Sunrisers Hyderabad': 64}}"
      ]
     },
     "execution_count": 46,
     "metadata": {},
     "output_type": "execute_result"
    }
   ],
   "source": [
    "from math import floor\n",
    "from collections import defaultdict\n",
    "\n",
    "def get_win_loss_ratio(team, year):\n",
    "    _df = df[df['season'] == year]\n",
    "    _df1 = _df[_df['team1'] == team]\n",
    "    _df2 = _df[_df['team2'] == team]\n",
    "    _df = _df1.append(_df2)\n",
    "    \n",
    "    try:\n",
    "        return floor((_df[_df['winner'] == team].shape[0] / _df.shape[0]) * 100)\n",
    "    except ZeroDivisionError:\n",
    "        return 0\n",
    "\n",
    "def get_complete_win_loss_ratio():\n",
    "    result = defaultdict(dict)\n",
    "    for year in range(2008, 2017):\n",
    "        _df = df[df['season'] == year]\n",
    "        for team in teams:\n",
    "            if team in set(_df['team1'].append(_df['team2'])):\n",
    "                result[year][team] = get_win_loss_ratio(team, year)\n",
    "            \n",
    "    return result\n",
    "\n",
    "dict(get_complete_win_loss_ratio())"
   ]
  },
  {
   "cell_type": "code",
   "execution_count": 47,
   "metadata": {},
   "outputs": [],
   "source": [
    "delivery_df = pd.read_csv('./datasets/deliveries.dmp')"
   ]
  },
  {
   "cell_type": "code",
   "execution_count": null,
   "metadata": {},
   "outputs": [],
   "source": []
  },
  {
   "cell_type": "code",
   "execution_count": 48,
   "metadata": {},
   "outputs": [
    {
     "data": {
      "text/plain": [
       "{2008: {'Chennai Super Kings': 157,\n",
       "  'Deccan Chargers': 159,\n",
       "  'Delhi Daredevils': 151,\n",
       "  'Kings XI Punjab': 164,\n",
       "  'Kolkata Knight Riders': 149,\n",
       "  'Mumbai Indians': 148,\n",
       "  'Rajasthan Royals': 162,\n",
       "  'Royal Challengers Bangalore': 141},\n",
       " 2009: {'Chennai Super Kings': 159,\n",
       "  'Deccan Chargers': 150,\n",
       "  'Delhi Daredevils': 142,\n",
       "  'Kings XI Punjab': 137,\n",
       "  'Kolkata Knight Riders': 136,\n",
       "  'Mumbai Indians': 145,\n",
       "  'Rajasthan Royals': 131,\n",
       "  'Royal Challengers Bangalore': 142},\n",
       " 2010: {'Chennai Super Kings': 162,\n",
       "  'Deccan Chargers': 148,\n",
       "  'Delhi Daredevils': 153,\n",
       "  'Kings XI Punjab': 163,\n",
       "  'Kolkata Knight Riders': 153,\n",
       "  'Mumbai Indians': 171,\n",
       "  'Rajasthan Royals': 155,\n",
       "  'Royal Challengers Bangalore': 150},\n",
       " 2011: {'Chennai Super Kings': 160,\n",
       "  'Deccan Chargers': 152,\n",
       "  'Delhi Daredevils': 149,\n",
       "  'Kings XI Punjab': 158,\n",
       "  'Kochi Tuskers Kerala': 135,\n",
       "  'Kolkata Knight Riders': 134,\n",
       "  'Mumbai Indians': 143,\n",
       "  'Pune Warriors': 126,\n",
       "  'Rajasthan Royals': 129,\n",
       "  'Royal Challengers Bangalore': 154},\n",
       " 2012: {'Chennai Super Kings': 157,\n",
       "  'Deccan Chargers': 154,\n",
       "  'Delhi Daredevils': 146,\n",
       "  'Kings XI Punjab': 149,\n",
       "  'Kolkata Knight Riders': 147,\n",
       "  'Mumbai Indians': 144,\n",
       "  'Pune Warriors': 145,\n",
       "  'Rajasthan Royals': 157,\n",
       "  'Royal Challengers Bangalore': 164},\n",
       " 2013: {'Chennai Super Kings': 154,\n",
       "  'Delhi Daredevils': 140,\n",
       "  'Kings XI Punjab': 151,\n",
       "  'Kolkata Knight Riders': 143,\n",
       "  'Mumbai Indians': 156,\n",
       "  'Pune Warriors': 141,\n",
       "  'Rajasthan Royals': 150,\n",
       "  'Royal Challengers Bangalore': 162,\n",
       "  'Sunrisers Hyderabad': 136},\n",
       " 2014: {'Chennai Super Kings': 165,\n",
       "  'Delhi Daredevils': 148,\n",
       "  'Kings XI Punjab': 175,\n",
       "  'Kolkata Knight Riders': 156,\n",
       "  'Mumbai Indians': 156,\n",
       "  'Rajasthan Royals': 154,\n",
       "  'Royal Challengers Bangalore': 149,\n",
       "  'Sunrisers Hyderabad': 150},\n",
       " 2015: {'Chennai Super Kings': 160,\n",
       "  'Delhi Daredevils': 154,\n",
       "  'Kings XI Punjab': 144,\n",
       "  'Kolkata Knight Riders': 157,\n",
       "  'Mumbai Indians': 170,\n",
       "  'Rajasthan Royals': 153,\n",
       "  'Royal Challengers Bangalore': 144,\n",
       "  'Sunrisers Hyderabad': 157},\n",
       " 2016: {'Delhi Daredevils': 150,\n",
       "  'Gujarat Lions': 153,\n",
       "  'Kings XI Punjab': 152,\n",
       "  'Kolkata Knight Riders': 150,\n",
       "  'Mumbai Indians': 156,\n",
       "  'Rising Pune Supergiants': 147,\n",
       "  'Royal Challengers Bangalore': 186,\n",
       "  'Sunrisers Hyderabad': 157}}"
      ]
     },
     "execution_count": 48,
     "metadata": {},
     "output_type": "execute_result"
    }
   ],
   "source": [
    "def get_average_score(team, year):\n",
    "    _df = df[df['season'] == year]\n",
    "    _df1 = _df[_df['team1'] == team]\n",
    "    _df2 = _df[_df['team2'] == team]\n",
    "    _df = _df1.append(_df2)\n",
    "    match_ids = list(_df['id'])\n",
    "    \n",
    "    _scores = []\n",
    "    for mid in match_ids:\n",
    "        _ddf = delivery_df[delivery_df['match_id'] == mid]\n",
    "        _scores.append(sum(_ddf[_ddf['batting_team'] == team]['total_runs']))\n",
    "        \n",
    "    return floor(sum(_scores) / len(_scores))\n",
    "\n",
    "def get_complete_average_score():\n",
    "    result = defaultdict(dict)\n",
    "    for year in range(2008, 2017):\n",
    "        _df = df[df['season'] == year]\n",
    "        for team in teams:\n",
    "            if team in set(_df['team1'].append(_df['team2'])):\n",
    "                result[year][team] = get_average_score(team, year)\n",
    "            \n",
    "    return result\n",
    "\n",
    "dict(get_complete_average_score())"
   ]
  },
  {
   "cell_type": "code",
   "execution_count": 49,
   "metadata": {},
   "outputs": [
    {
     "data": {
      "text/plain": [
       "162"
      ]
     },
     "execution_count": 49,
     "metadata": {},
     "output_type": "execute_result"
    }
   ],
   "source": [
    "get_average_score('Rajasthan Royals', 2008)"
   ]
  },
  {
   "cell_type": "code",
   "execution_count": 50,
   "metadata": {},
   "outputs": [
    {
     "data": {
      "text/plain": [
       "(136598, 21)"
      ]
     },
     "execution_count": 50,
     "metadata": {},
     "output_type": "execute_result"
    }
   ],
   "source": [
    "delivery_df.shape"
   ]
  },
  {
   "cell_type": "code",
   "execution_count": 51,
   "metadata": {},
   "outputs": [
    {
     "data": {
      "text/plain": [
       "Index(['match_id', 'inning', 'batting_team', 'bowling_team', 'over', 'ball',\n",
       "       'batsman', 'non_striker', 'bowler', 'is_super_over', 'wide_runs',\n",
       "       'bye_runs', 'legbye_runs', 'noball_runs', 'penalty_runs',\n",
       "       'batsman_runs', 'extra_runs', 'total_runs', 'player_dismissed',\n",
       "       'dismissal_kind', 'fielder'],\n",
       "      dtype='object')"
      ]
     },
     "execution_count": 51,
     "metadata": {},
     "output_type": "execute_result"
    }
   ],
   "source": [
    "delivery_df.columns"
   ]
  },
  {
   "cell_type": "code",
   "execution_count": 52,
   "metadata": {},
   "outputs": [
    {
     "data": {
      "text/html": [
       "<div>\n",
       "<style scoped>\n",
       "    .dataframe tbody tr th:only-of-type {\n",
       "        vertical-align: middle;\n",
       "    }\n",
       "\n",
       "    .dataframe tbody tr th {\n",
       "        vertical-align: top;\n",
       "    }\n",
       "\n",
       "    .dataframe thead th {\n",
       "        text-align: right;\n",
       "    }\n",
       "</style>\n",
       "<table border=\"1\" class=\"dataframe\">\n",
       "  <thead>\n",
       "    <tr style=\"text-align: right;\">\n",
       "      <th></th>\n",
       "      <th>match_id</th>\n",
       "      <th>inning</th>\n",
       "      <th>batting_team</th>\n",
       "      <th>bowling_team</th>\n",
       "      <th>over</th>\n",
       "      <th>ball</th>\n",
       "      <th>batsman</th>\n",
       "      <th>non_striker</th>\n",
       "      <th>bowler</th>\n",
       "      <th>is_super_over</th>\n",
       "      <th>...</th>\n",
       "      <th>bye_runs</th>\n",
       "      <th>legbye_runs</th>\n",
       "      <th>noball_runs</th>\n",
       "      <th>penalty_runs</th>\n",
       "      <th>batsman_runs</th>\n",
       "      <th>extra_runs</th>\n",
       "      <th>total_runs</th>\n",
       "      <th>player_dismissed</th>\n",
       "      <th>dismissal_kind</th>\n",
       "      <th>fielder</th>\n",
       "    </tr>\n",
       "  </thead>\n",
       "  <tbody>\n",
       "    <tr>\n",
       "      <th>121989</th>\n",
       "      <td>515</td>\n",
       "      <td>2</td>\n",
       "      <td>Rajasthan Royals</td>\n",
       "      <td>Royal Challengers Bangalore</td>\n",
       "      <td>16</td>\n",
       "      <td>6</td>\n",
       "      <td>CH Morris</td>\n",
       "      <td>DJ Hooda</td>\n",
       "      <td>MA Starc</td>\n",
       "      <td>0</td>\n",
       "      <td>...</td>\n",
       "      <td>0</td>\n",
       "      <td>0</td>\n",
       "      <td>0</td>\n",
       "      <td>0</td>\n",
       "      <td>0</td>\n",
       "      <td>0</td>\n",
       "      <td>0</td>\n",
       "      <td>CH Morris</td>\n",
       "      <td>caught</td>\n",
       "      <td>YS Chahal</td>\n",
       "    </tr>\n",
       "    <tr>\n",
       "      <th>121990</th>\n",
       "      <td>515</td>\n",
       "      <td>2</td>\n",
       "      <td>Rajasthan Royals</td>\n",
       "      <td>Royal Challengers Bangalore</td>\n",
       "      <td>17</td>\n",
       "      <td>1</td>\n",
       "      <td>DJ Hooda</td>\n",
       "      <td>Ankit Sharma</td>\n",
       "      <td>D Wiese</td>\n",
       "      <td>0</td>\n",
       "      <td>...</td>\n",
       "      <td>0</td>\n",
       "      <td>0</td>\n",
       "      <td>0</td>\n",
       "      <td>0</td>\n",
       "      <td>2</td>\n",
       "      <td>0</td>\n",
       "      <td>2</td>\n",
       "      <td>NaN</td>\n",
       "      <td>NaN</td>\n",
       "      <td>NaN</td>\n",
       "    </tr>\n",
       "    <tr>\n",
       "      <th>121991</th>\n",
       "      <td>515</td>\n",
       "      <td>2</td>\n",
       "      <td>Rajasthan Royals</td>\n",
       "      <td>Royal Challengers Bangalore</td>\n",
       "      <td>17</td>\n",
       "      <td>2</td>\n",
       "      <td>DJ Hooda</td>\n",
       "      <td>Ankit Sharma</td>\n",
       "      <td>D Wiese</td>\n",
       "      <td>0</td>\n",
       "      <td>...</td>\n",
       "      <td>0</td>\n",
       "      <td>0</td>\n",
       "      <td>0</td>\n",
       "      <td>0</td>\n",
       "      <td>0</td>\n",
       "      <td>0</td>\n",
       "      <td>0</td>\n",
       "      <td>NaN</td>\n",
       "      <td>NaN</td>\n",
       "      <td>NaN</td>\n",
       "    </tr>\n",
       "    <tr>\n",
       "      <th>121992</th>\n",
       "      <td>515</td>\n",
       "      <td>2</td>\n",
       "      <td>Rajasthan Royals</td>\n",
       "      <td>Royal Challengers Bangalore</td>\n",
       "      <td>17</td>\n",
       "      <td>3</td>\n",
       "      <td>DJ Hooda</td>\n",
       "      <td>Ankit Sharma</td>\n",
       "      <td>D Wiese</td>\n",
       "      <td>0</td>\n",
       "      <td>...</td>\n",
       "      <td>0</td>\n",
       "      <td>0</td>\n",
       "      <td>0</td>\n",
       "      <td>0</td>\n",
       "      <td>1</td>\n",
       "      <td>0</td>\n",
       "      <td>1</td>\n",
       "      <td>NaN</td>\n",
       "      <td>NaN</td>\n",
       "      <td>NaN</td>\n",
       "    </tr>\n",
       "    <tr>\n",
       "      <th>121993</th>\n",
       "      <td>515</td>\n",
       "      <td>2</td>\n",
       "      <td>Rajasthan Royals</td>\n",
       "      <td>Royal Challengers Bangalore</td>\n",
       "      <td>17</td>\n",
       "      <td>4</td>\n",
       "      <td>Ankit Sharma</td>\n",
       "      <td>DJ Hooda</td>\n",
       "      <td>D Wiese</td>\n",
       "      <td>0</td>\n",
       "      <td>...</td>\n",
       "      <td>0</td>\n",
       "      <td>0</td>\n",
       "      <td>0</td>\n",
       "      <td>0</td>\n",
       "      <td>1</td>\n",
       "      <td>0</td>\n",
       "      <td>1</td>\n",
       "      <td>NaN</td>\n",
       "      <td>NaN</td>\n",
       "      <td>NaN</td>\n",
       "    </tr>\n",
       "    <tr>\n",
       "      <th>121994</th>\n",
       "      <td>515</td>\n",
       "      <td>2</td>\n",
       "      <td>Rajasthan Royals</td>\n",
       "      <td>Royal Challengers Bangalore</td>\n",
       "      <td>17</td>\n",
       "      <td>5</td>\n",
       "      <td>DJ Hooda</td>\n",
       "      <td>Ankit Sharma</td>\n",
       "      <td>D Wiese</td>\n",
       "      <td>0</td>\n",
       "      <td>...</td>\n",
       "      <td>0</td>\n",
       "      <td>0</td>\n",
       "      <td>0</td>\n",
       "      <td>0</td>\n",
       "      <td>0</td>\n",
       "      <td>0</td>\n",
       "      <td>0</td>\n",
       "      <td>DJ Hooda</td>\n",
       "      <td>caught</td>\n",
       "      <td>MA Starc</td>\n",
       "    </tr>\n",
       "    <tr>\n",
       "      <th>121995</th>\n",
       "      <td>515</td>\n",
       "      <td>2</td>\n",
       "      <td>Rajasthan Royals</td>\n",
       "      <td>Royal Challengers Bangalore</td>\n",
       "      <td>17</td>\n",
       "      <td>6</td>\n",
       "      <td>Ankit Sharma</td>\n",
       "      <td>DS Kulkarni</td>\n",
       "      <td>D Wiese</td>\n",
       "      <td>0</td>\n",
       "      <td>...</td>\n",
       "      <td>0</td>\n",
       "      <td>0</td>\n",
       "      <td>0</td>\n",
       "      <td>0</td>\n",
       "      <td>4</td>\n",
       "      <td>0</td>\n",
       "      <td>4</td>\n",
       "      <td>NaN</td>\n",
       "      <td>NaN</td>\n",
       "      <td>NaN</td>\n",
       "    </tr>\n",
       "    <tr>\n",
       "      <th>121996</th>\n",
       "      <td>515</td>\n",
       "      <td>2</td>\n",
       "      <td>Rajasthan Royals</td>\n",
       "      <td>Royal Challengers Bangalore</td>\n",
       "      <td>18</td>\n",
       "      <td>1</td>\n",
       "      <td>DS Kulkarni</td>\n",
       "      <td>Ankit Sharma</td>\n",
       "      <td>MA Starc</td>\n",
       "      <td>0</td>\n",
       "      <td>...</td>\n",
       "      <td>0</td>\n",
       "      <td>0</td>\n",
       "      <td>0</td>\n",
       "      <td>0</td>\n",
       "      <td>0</td>\n",
       "      <td>0</td>\n",
       "      <td>0</td>\n",
       "      <td>NaN</td>\n",
       "      <td>NaN</td>\n",
       "      <td>NaN</td>\n",
       "    </tr>\n",
       "    <tr>\n",
       "      <th>121997</th>\n",
       "      <td>515</td>\n",
       "      <td>2</td>\n",
       "      <td>Rajasthan Royals</td>\n",
       "      <td>Royal Challengers Bangalore</td>\n",
       "      <td>18</td>\n",
       "      <td>2</td>\n",
       "      <td>DS Kulkarni</td>\n",
       "      <td>Ankit Sharma</td>\n",
       "      <td>MA Starc</td>\n",
       "      <td>0</td>\n",
       "      <td>...</td>\n",
       "      <td>0</td>\n",
       "      <td>0</td>\n",
       "      <td>0</td>\n",
       "      <td>0</td>\n",
       "      <td>0</td>\n",
       "      <td>0</td>\n",
       "      <td>0</td>\n",
       "      <td>NaN</td>\n",
       "      <td>NaN</td>\n",
       "      <td>NaN</td>\n",
       "    </tr>\n",
       "    <tr>\n",
       "      <th>121998</th>\n",
       "      <td>515</td>\n",
       "      <td>2</td>\n",
       "      <td>Rajasthan Royals</td>\n",
       "      <td>Royal Challengers Bangalore</td>\n",
       "      <td>18</td>\n",
       "      <td>3</td>\n",
       "      <td>DS Kulkarni</td>\n",
       "      <td>Ankit Sharma</td>\n",
       "      <td>MA Starc</td>\n",
       "      <td>0</td>\n",
       "      <td>...</td>\n",
       "      <td>0</td>\n",
       "      <td>0</td>\n",
       "      <td>0</td>\n",
       "      <td>0</td>\n",
       "      <td>0</td>\n",
       "      <td>0</td>\n",
       "      <td>0</td>\n",
       "      <td>NaN</td>\n",
       "      <td>NaN</td>\n",
       "      <td>NaN</td>\n",
       "    </tr>\n",
       "    <tr>\n",
       "      <th>121999</th>\n",
       "      <td>515</td>\n",
       "      <td>2</td>\n",
       "      <td>Rajasthan Royals</td>\n",
       "      <td>Royal Challengers Bangalore</td>\n",
       "      <td>18</td>\n",
       "      <td>4</td>\n",
       "      <td>DS Kulkarni</td>\n",
       "      <td>Ankit Sharma</td>\n",
       "      <td>MA Starc</td>\n",
       "      <td>0</td>\n",
       "      <td>...</td>\n",
       "      <td>0</td>\n",
       "      <td>0</td>\n",
       "      <td>0</td>\n",
       "      <td>0</td>\n",
       "      <td>0</td>\n",
       "      <td>0</td>\n",
       "      <td>0</td>\n",
       "      <td>NaN</td>\n",
       "      <td>NaN</td>\n",
       "      <td>NaN</td>\n",
       "    </tr>\n",
       "    <tr>\n",
       "      <th>122000</th>\n",
       "      <td>515</td>\n",
       "      <td>2</td>\n",
       "      <td>Rajasthan Royals</td>\n",
       "      <td>Royal Challengers Bangalore</td>\n",
       "      <td>18</td>\n",
       "      <td>5</td>\n",
       "      <td>DS Kulkarni</td>\n",
       "      <td>Ankit Sharma</td>\n",
       "      <td>MA Starc</td>\n",
       "      <td>0</td>\n",
       "      <td>...</td>\n",
       "      <td>0</td>\n",
       "      <td>0</td>\n",
       "      <td>0</td>\n",
       "      <td>0</td>\n",
       "      <td>0</td>\n",
       "      <td>1</td>\n",
       "      <td>1</td>\n",
       "      <td>NaN</td>\n",
       "      <td>NaN</td>\n",
       "      <td>NaN</td>\n",
       "    </tr>\n",
       "    <tr>\n",
       "      <th>122001</th>\n",
       "      <td>515</td>\n",
       "      <td>2</td>\n",
       "      <td>Rajasthan Royals</td>\n",
       "      <td>Royal Challengers Bangalore</td>\n",
       "      <td>18</td>\n",
       "      <td>6</td>\n",
       "      <td>DS Kulkarni</td>\n",
       "      <td>Ankit Sharma</td>\n",
       "      <td>MA Starc</td>\n",
       "      <td>0</td>\n",
       "      <td>...</td>\n",
       "      <td>0</td>\n",
       "      <td>0</td>\n",
       "      <td>0</td>\n",
       "      <td>0</td>\n",
       "      <td>1</td>\n",
       "      <td>0</td>\n",
       "      <td>1</td>\n",
       "      <td>NaN</td>\n",
       "      <td>NaN</td>\n",
       "      <td>NaN</td>\n",
       "    </tr>\n",
       "    <tr>\n",
       "      <th>122002</th>\n",
       "      <td>515</td>\n",
       "      <td>2</td>\n",
       "      <td>Rajasthan Royals</td>\n",
       "      <td>Royal Challengers Bangalore</td>\n",
       "      <td>18</td>\n",
       "      <td>7</td>\n",
       "      <td>Ankit Sharma</td>\n",
       "      <td>DS Kulkarni</td>\n",
       "      <td>MA Starc</td>\n",
       "      <td>0</td>\n",
       "      <td>...</td>\n",
       "      <td>0</td>\n",
       "      <td>0</td>\n",
       "      <td>0</td>\n",
       "      <td>0</td>\n",
       "      <td>0</td>\n",
       "      <td>0</td>\n",
       "      <td>0</td>\n",
       "      <td>NaN</td>\n",
       "      <td>NaN</td>\n",
       "      <td>NaN</td>\n",
       "    </tr>\n",
       "    <tr>\n",
       "      <th>122003</th>\n",
       "      <td>515</td>\n",
       "      <td>2</td>\n",
       "      <td>Rajasthan Royals</td>\n",
       "      <td>Royal Challengers Bangalore</td>\n",
       "      <td>19</td>\n",
       "      <td>1</td>\n",
       "      <td>DS Kulkarni</td>\n",
       "      <td>Ankit Sharma</td>\n",
       "      <td>YS Chahal</td>\n",
       "      <td>0</td>\n",
       "      <td>...</td>\n",
       "      <td>0</td>\n",
       "      <td>0</td>\n",
       "      <td>0</td>\n",
       "      <td>0</td>\n",
       "      <td>1</td>\n",
       "      <td>0</td>\n",
       "      <td>1</td>\n",
       "      <td>NaN</td>\n",
       "      <td>NaN</td>\n",
       "      <td>NaN</td>\n",
       "    </tr>\n",
       "    <tr>\n",
       "      <th>122004</th>\n",
       "      <td>515</td>\n",
       "      <td>2</td>\n",
       "      <td>Rajasthan Royals</td>\n",
       "      <td>Royal Challengers Bangalore</td>\n",
       "      <td>19</td>\n",
       "      <td>2</td>\n",
       "      <td>Ankit Sharma</td>\n",
       "      <td>DS Kulkarni</td>\n",
       "      <td>YS Chahal</td>\n",
       "      <td>0</td>\n",
       "      <td>...</td>\n",
       "      <td>0</td>\n",
       "      <td>0</td>\n",
       "      <td>0</td>\n",
       "      <td>0</td>\n",
       "      <td>1</td>\n",
       "      <td>0</td>\n",
       "      <td>1</td>\n",
       "      <td>NaN</td>\n",
       "      <td>NaN</td>\n",
       "      <td>NaN</td>\n",
       "    </tr>\n",
       "    <tr>\n",
       "      <th>122005</th>\n",
       "      <td>515</td>\n",
       "      <td>2</td>\n",
       "      <td>Rajasthan Royals</td>\n",
       "      <td>Royal Challengers Bangalore</td>\n",
       "      <td>19</td>\n",
       "      <td>3</td>\n",
       "      <td>DS Kulkarni</td>\n",
       "      <td>Ankit Sharma</td>\n",
       "      <td>YS Chahal</td>\n",
       "      <td>0</td>\n",
       "      <td>...</td>\n",
       "      <td>0</td>\n",
       "      <td>0</td>\n",
       "      <td>0</td>\n",
       "      <td>0</td>\n",
       "      <td>0</td>\n",
       "      <td>0</td>\n",
       "      <td>0</td>\n",
       "      <td>NaN</td>\n",
       "      <td>NaN</td>\n",
       "      <td>NaN</td>\n",
       "    </tr>\n",
       "    <tr>\n",
       "      <th>122006</th>\n",
       "      <td>515</td>\n",
       "      <td>2</td>\n",
       "      <td>Rajasthan Royals</td>\n",
       "      <td>Royal Challengers Bangalore</td>\n",
       "      <td>19</td>\n",
       "      <td>4</td>\n",
       "      <td>DS Kulkarni</td>\n",
       "      <td>Ankit Sharma</td>\n",
       "      <td>YS Chahal</td>\n",
       "      <td>0</td>\n",
       "      <td>...</td>\n",
       "      <td>0</td>\n",
       "      <td>0</td>\n",
       "      <td>0</td>\n",
       "      <td>0</td>\n",
       "      <td>1</td>\n",
       "      <td>0</td>\n",
       "      <td>1</td>\n",
       "      <td>NaN</td>\n",
       "      <td>NaN</td>\n",
       "      <td>NaN</td>\n",
       "    </tr>\n",
       "    <tr>\n",
       "      <th>122007</th>\n",
       "      <td>515</td>\n",
       "      <td>2</td>\n",
       "      <td>Rajasthan Royals</td>\n",
       "      <td>Royal Challengers Bangalore</td>\n",
       "      <td>19</td>\n",
       "      <td>5</td>\n",
       "      <td>Ankit Sharma</td>\n",
       "      <td>DS Kulkarni</td>\n",
       "      <td>YS Chahal</td>\n",
       "      <td>0</td>\n",
       "      <td>...</td>\n",
       "      <td>0</td>\n",
       "      <td>0</td>\n",
       "      <td>0</td>\n",
       "      <td>0</td>\n",
       "      <td>1</td>\n",
       "      <td>0</td>\n",
       "      <td>1</td>\n",
       "      <td>NaN</td>\n",
       "      <td>NaN</td>\n",
       "      <td>NaN</td>\n",
       "    </tr>\n",
       "    <tr>\n",
       "      <th>122008</th>\n",
       "      <td>515</td>\n",
       "      <td>2</td>\n",
       "      <td>Rajasthan Royals</td>\n",
       "      <td>Royal Challengers Bangalore</td>\n",
       "      <td>19</td>\n",
       "      <td>6</td>\n",
       "      <td>DS Kulkarni</td>\n",
       "      <td>Ankit Sharma</td>\n",
       "      <td>YS Chahal</td>\n",
       "      <td>0</td>\n",
       "      <td>...</td>\n",
       "      <td>0</td>\n",
       "      <td>0</td>\n",
       "      <td>0</td>\n",
       "      <td>0</td>\n",
       "      <td>0</td>\n",
       "      <td>0</td>\n",
       "      <td>0</td>\n",
       "      <td>DS Kulkarni</td>\n",
       "      <td>bowled</td>\n",
       "      <td>NaN</td>\n",
       "    </tr>\n",
       "  </tbody>\n",
       "</table>\n",
       "<p>20 rows × 21 columns</p>\n",
       "</div>"
      ],
      "text/plain": [
       "        match_id  inning      batting_team                 bowling_team  over  \\\n",
       "121989       515       2  Rajasthan Royals  Royal Challengers Bangalore    16   \n",
       "121990       515       2  Rajasthan Royals  Royal Challengers Bangalore    17   \n",
       "121991       515       2  Rajasthan Royals  Royal Challengers Bangalore    17   \n",
       "121992       515       2  Rajasthan Royals  Royal Challengers Bangalore    17   \n",
       "121993       515       2  Rajasthan Royals  Royal Challengers Bangalore    17   \n",
       "121994       515       2  Rajasthan Royals  Royal Challengers Bangalore    17   \n",
       "121995       515       2  Rajasthan Royals  Royal Challengers Bangalore    17   \n",
       "121996       515       2  Rajasthan Royals  Royal Challengers Bangalore    18   \n",
       "121997       515       2  Rajasthan Royals  Royal Challengers Bangalore    18   \n",
       "121998       515       2  Rajasthan Royals  Royal Challengers Bangalore    18   \n",
       "121999       515       2  Rajasthan Royals  Royal Challengers Bangalore    18   \n",
       "122000       515       2  Rajasthan Royals  Royal Challengers Bangalore    18   \n",
       "122001       515       2  Rajasthan Royals  Royal Challengers Bangalore    18   \n",
       "122002       515       2  Rajasthan Royals  Royal Challengers Bangalore    18   \n",
       "122003       515       2  Rajasthan Royals  Royal Challengers Bangalore    19   \n",
       "122004       515       2  Rajasthan Royals  Royal Challengers Bangalore    19   \n",
       "122005       515       2  Rajasthan Royals  Royal Challengers Bangalore    19   \n",
       "122006       515       2  Rajasthan Royals  Royal Challengers Bangalore    19   \n",
       "122007       515       2  Rajasthan Royals  Royal Challengers Bangalore    19   \n",
       "122008       515       2  Rajasthan Royals  Royal Challengers Bangalore    19   \n",
       "\n",
       "        ball       batsman   non_striker     bowler  is_super_over    ...      \\\n",
       "121989     6     CH Morris      DJ Hooda   MA Starc              0    ...       \n",
       "121990     1      DJ Hooda  Ankit Sharma    D Wiese              0    ...       \n",
       "121991     2      DJ Hooda  Ankit Sharma    D Wiese              0    ...       \n",
       "121992     3      DJ Hooda  Ankit Sharma    D Wiese              0    ...       \n",
       "121993     4  Ankit Sharma      DJ Hooda    D Wiese              0    ...       \n",
       "121994     5      DJ Hooda  Ankit Sharma    D Wiese              0    ...       \n",
       "121995     6  Ankit Sharma   DS Kulkarni    D Wiese              0    ...       \n",
       "121996     1   DS Kulkarni  Ankit Sharma   MA Starc              0    ...       \n",
       "121997     2   DS Kulkarni  Ankit Sharma   MA Starc              0    ...       \n",
       "121998     3   DS Kulkarni  Ankit Sharma   MA Starc              0    ...       \n",
       "121999     4   DS Kulkarni  Ankit Sharma   MA Starc              0    ...       \n",
       "122000     5   DS Kulkarni  Ankit Sharma   MA Starc              0    ...       \n",
       "122001     6   DS Kulkarni  Ankit Sharma   MA Starc              0    ...       \n",
       "122002     7  Ankit Sharma   DS Kulkarni   MA Starc              0    ...       \n",
       "122003     1   DS Kulkarni  Ankit Sharma  YS Chahal              0    ...       \n",
       "122004     2  Ankit Sharma   DS Kulkarni  YS Chahal              0    ...       \n",
       "122005     3   DS Kulkarni  Ankit Sharma  YS Chahal              0    ...       \n",
       "122006     4   DS Kulkarni  Ankit Sharma  YS Chahal              0    ...       \n",
       "122007     5  Ankit Sharma   DS Kulkarni  YS Chahal              0    ...       \n",
       "122008     6   DS Kulkarni  Ankit Sharma  YS Chahal              0    ...       \n",
       "\n",
       "        bye_runs  legbye_runs  noball_runs  penalty_runs  batsman_runs  \\\n",
       "121989         0            0            0             0             0   \n",
       "121990         0            0            0             0             2   \n",
       "121991         0            0            0             0             0   \n",
       "121992         0            0            0             0             1   \n",
       "121993         0            0            0             0             1   \n",
       "121994         0            0            0             0             0   \n",
       "121995         0            0            0             0             4   \n",
       "121996         0            0            0             0             0   \n",
       "121997         0            0            0             0             0   \n",
       "121998         0            0            0             0             0   \n",
       "121999         0            0            0             0             0   \n",
       "122000         0            0            0             0             0   \n",
       "122001         0            0            0             0             1   \n",
       "122002         0            0            0             0             0   \n",
       "122003         0            0            0             0             1   \n",
       "122004         0            0            0             0             1   \n",
       "122005         0            0            0             0             0   \n",
       "122006         0            0            0             0             1   \n",
       "122007         0            0            0             0             1   \n",
       "122008         0            0            0             0             0   \n",
       "\n",
       "        extra_runs  total_runs  player_dismissed dismissal_kind    fielder  \n",
       "121989           0           0         CH Morris         caught  YS Chahal  \n",
       "121990           0           2               NaN            NaN        NaN  \n",
       "121991           0           0               NaN            NaN        NaN  \n",
       "121992           0           1               NaN            NaN        NaN  \n",
       "121993           0           1               NaN            NaN        NaN  \n",
       "121994           0           0          DJ Hooda         caught   MA Starc  \n",
       "121995           0           4               NaN            NaN        NaN  \n",
       "121996           0           0               NaN            NaN        NaN  \n",
       "121997           0           0               NaN            NaN        NaN  \n",
       "121998           0           0               NaN            NaN        NaN  \n",
       "121999           0           0               NaN            NaN        NaN  \n",
       "122000           1           1               NaN            NaN        NaN  \n",
       "122001           0           1               NaN            NaN        NaN  \n",
       "122002           0           0               NaN            NaN        NaN  \n",
       "122003           0           1               NaN            NaN        NaN  \n",
       "122004           0           1               NaN            NaN        NaN  \n",
       "122005           0           0               NaN            NaN        NaN  \n",
       "122006           0           1               NaN            NaN        NaN  \n",
       "122007           0           1               NaN            NaN        NaN  \n",
       "122008           0           0       DS Kulkarni         bowled        NaN  \n",
       "\n",
       "[20 rows x 21 columns]"
      ]
     },
     "execution_count": 52,
     "metadata": {},
     "output_type": "execute_result"
    }
   ],
   "source": [
    "delivery_df[delivery_df['batting_team'] == 'Rajasthan Royals'].tail(20)"
   ]
  },
  {
   "cell_type": "markdown",
   "metadata": {},
   "source": [
    "### Most Dismissals"
   ]
  },
  {
   "cell_type": "code",
   "execution_count": 53,
   "metadata": {},
   "outputs": [],
   "source": [
    "dismissed_df = delivery_df[delivery_df['player_dismissed'].notnull()]\n",
    "\n",
    "batsman_bowler_pairs = Counter()\n",
    "for index, row in dismissed_df[['bowler', 'player_dismissed']].iterrows():\n",
    "    batsman_bowler_pairs['{}:{}'.format(row['bowler'], row['player_dismissed'])] += 1"
   ]
  },
  {
   "cell_type": "code",
   "execution_count": 54,
   "metadata": {},
   "outputs": [
    {
     "name": "stdout",
     "output_type": "stream",
     "text": [
      "bowlers {'B Kumar', 'PP Chawla', 'MM Sharma', 'P Kumar', 'Z Khan', 'DJ Bravo', 'R Sharma', 'PP Ojha', 'IK Pathan', 'A Nehra', 'A Mishra', 'RP Singh', 'Harbhajan Singh', 'RA Jadeja', 'R Vinay Kumar', 'SK Trivedi'}\n",
      "\n",
      "\n",
      "batsmen {'SC Ganguly', 'R Dravid', 'MK Pandey', 'KC Sangakkara', 'NV Ojha', 'BB McCullum', 'RG Sharma', 'MS Dhoni', 'PA Patel', 'AB de Villiers', 'RV Uthappa', 'SK Raina', 'DJ Hussey', 'V Kohli', 'AC Gilchrist', 'JH Kallis', 'G Gambhir', 'AM Rahane', 'SR Watson', 'MEK Hussey', 'RA Jadeja', 'AT Rayudu'}\n",
      "\n",
      "\n",
      "[{'source': 'Z Khan', 'target': 'MS Dhoni', 'value': 7}, {'source': 'PP Ojha', 'target': 'MS Dhoni', 'value': 7}, {'source': 'A Nehra', 'target': 'V Kohli', 'value': 6}, {'source': 'R Vinay Kumar', 'target': 'RG Sharma', 'value': 6}, {'source': 'B Kumar', 'target': 'AM Rahane', 'value': 6}, {'source': 'Z Khan', 'target': 'G Gambhir', 'value': 5}, {'source': 'SK Trivedi', 'target': 'RG Sharma', 'value': 5}, {'source': 'PP Ojha', 'target': 'G Gambhir', 'value': 5}, {'source': 'DJ Bravo', 'target': 'RG Sharma', 'value': 5}, {'source': 'PP Chawla', 'target': 'AB de Villiers', 'value': 5}, {'source': 'Harbhajan Singh', 'target': 'MK Pandey', 'value': 5}, {'source': 'A Mishra', 'target': 'RV Uthappa', 'value': 5}, {'source': 'R Sharma', 'target': 'KC Sangakkara', 'value': 5}, {'source': 'RA Jadeja', 'target': 'SR Watson', 'value': 5}, {'source': 'B Kumar', 'target': 'PA Patel', 'value': 5}, {'source': 'MM Sharma', 'target': 'AT Rayudu', 'value': 5}, {'source': 'Harbhajan Singh', 'target': 'R Dravid', 'value': 4}, {'source': 'P Kumar', 'target': 'SK Raina', 'value': 4}, {'source': 'Z Khan', 'target': 'MEK Hussey', 'value': 4}, {'source': 'IK Pathan', 'target': 'AC Gilchrist', 'value': 4}, {'source': 'SK Trivedi', 'target': 'DJ Hussey', 'value': 4}, {'source': 'R Vinay Kumar', 'target': 'SC Ganguly', 'value': 4}, {'source': 'PP Chawla', 'target': 'SK Raina', 'value': 4}, {'source': 'A Mishra', 'target': 'RA Jadeja', 'value': 4}, {'source': 'DJ Bravo', 'target': 'SK Raina', 'value': 4}, {'source': 'RP Singh', 'target': 'JH Kallis', 'value': 4}, {'source': 'A Mishra', 'target': 'RG Sharma', 'value': 4}, {'source': 'RP Singh', 'target': 'NV Ojha', 'value': 4}, {'source': 'PP Chawla', 'target': 'BB McCullum', 'value': 4}, {'source': 'Harbhajan Singh', 'target': 'G Gambhir', 'value': 4}]\n",
      "\n",
      "\n",
      "{'RA Jadeja'}\n"
     ]
    }
   ],
   "source": [
    "most_dismissed_pairs = batsman_bowler_pairs.most_common(30)\n",
    "result = []\n",
    "\n",
    "for p in most_dismissed_pairs:\n",
    "    bowler, batsman = p[0].split(':')\n",
    "    result.append({\n",
    "        'source': bowler,\n",
    "        'target': batsman,\n",
    "        'value': p[1]\n",
    "    })\n",
    "    \n",
    "print('bowlers', set(map(lambda r: r['source'], result)))\n",
    "print('\\n')\n",
    "print('batsmen', set(map(lambda r: r['target'], result)))\n",
    "print('\\n')\n",
    "print(result)\n",
    "print('\\n')\n",
    "print(set(map(lambda r: r['source'], result)).intersection(set(map(lambda r: r['target'], result))))"
   ]
  },
  {
   "cell_type": "code",
   "execution_count": 55,
   "metadata": {},
   "outputs": [],
   "source": [
    "batsmen = {'G Gambhir', 'SC Ganguly', 'JH Kallis', 'R Dravid', 'DJ Hussey', 'KC Sangakkara', 'BB McCullum', 'MEK Hussey', 'MS Dhoni', 'AB de Villiers', 'SR Watson', 'PA Patel', 'AC Gilchrist', 'RV Uthappa', 'AM Rahane', 'SK Raina', 'RA Jadeja', 'V Kohli', 'RG Sharma', 'NV Ojha', 'MK Pandey', 'AT Rayudu'}"
   ]
  },
  {
   "cell_type": "code",
   "execution_count": null,
   "metadata": {},
   "outputs": [],
   "source": []
  },
  {
   "cell_type": "code",
   "execution_count": null,
   "metadata": {},
   "outputs": [],
   "source": []
  },
  {
   "cell_type": "code",
   "execution_count": 56,
   "metadata": {},
   "outputs": [],
   "source": [
    "d = {}\n",
    "for b in batsmen:\n",
    "    d[b]='batsmen'"
   ]
  },
  {
   "cell_type": "code",
   "execution_count": 57,
   "metadata": {},
   "outputs": [
    {
     "data": {
      "text/plain": [
       "{'AB de Villiers': 'batsmen',\n",
       " 'AC Gilchrist': 'batsmen',\n",
       " 'AM Rahane': 'batsmen',\n",
       " 'AT Rayudu': 'batsmen',\n",
       " 'BB McCullum': 'batsmen',\n",
       " 'DJ Hussey': 'batsmen',\n",
       " 'G Gambhir': 'batsmen',\n",
       " 'JH Kallis': 'batsmen',\n",
       " 'KC Sangakkara': 'batsmen',\n",
       " 'MEK Hussey': 'batsmen',\n",
       " 'MK Pandey': 'batsmen',\n",
       " 'MS Dhoni': 'batsmen',\n",
       " 'NV Ojha': 'batsmen',\n",
       " 'PA Patel': 'batsmen',\n",
       " 'R Dravid': 'batsmen',\n",
       " 'RA Jadeja': 'batsmen',\n",
       " 'RG Sharma': 'batsmen',\n",
       " 'RV Uthappa': 'batsmen',\n",
       " 'SC Ganguly': 'batsmen',\n",
       " 'SK Raina': 'batsmen',\n",
       " 'SR Watson': 'batsmen',\n",
       " 'V Kohli': 'batsmen'}"
      ]
     },
     "execution_count": 57,
     "metadata": {},
     "output_type": "execute_result"
    }
   ],
   "source": [
    "d"
   ]
  },
  {
   "cell_type": "markdown",
   "metadata": {},
   "source": [
    "### Percentage Share (per ball)"
   ]
  },
  {
   "cell_type": "code",
   "execution_count": 174,
   "metadata": {},
   "outputs": [
    {
     "data": {
      "text/plain": [
       "136598"
      ]
     },
     "execution_count": 174,
     "metadata": {},
     "output_type": "execute_result"
    }
   ],
   "source": [
    "from math import ceil\n",
    "\n",
    "total_deliveries = delivery_df.shape[0]\n",
    "total_deliveries"
   ]
  },
  {
   "cell_type": "code",
   "execution_count": 175,
   "metadata": {},
   "outputs": [
    {
     "name": "stdout",
     "output_type": "stream",
     "text": [
      "6727\n",
      "wicket_deliveries 5\n"
     ]
    }
   ],
   "source": [
    "wicket_deliveries = delivery_df[delivery_df['player_dismissed'].notnull()].shape[0]\n",
    "print(wicket_deliveries)\n",
    "print('wicket_deliveries', ceil(100*wicket_deliveries / total_deliveries))"
   ]
  },
  {
   "cell_type": "code",
   "execution_count": 176,
   "metadata": {},
   "outputs": [
    {
     "name": "stdout",
     "output_type": "stream",
     "text": [
      "six_deliveries 5\n"
     ]
    },
    {
     "data": {
      "text/plain": [
       "5817"
      ]
     },
     "execution_count": 176,
     "metadata": {},
     "output_type": "execute_result"
    }
   ],
   "source": [
    "six_deliveries = delivery_df[delivery_df['batsman_runs'] == 6].shape[0]\n",
    "print('six_deliveries', ceil(100*six_deliveries / total_deliveries))\n",
    "six_deliveries"
   ]
  },
  {
   "cell_type": "code",
   "execution_count": 177,
   "metadata": {},
   "outputs": [
    {
     "name": "stdout",
     "output_type": "stream",
     "text": [
      "four_deliveries 12\n"
     ]
    },
    {
     "data": {
      "text/plain": [
       "15421"
      ]
     },
     "execution_count": 177,
     "metadata": {},
     "output_type": "execute_result"
    }
   ],
   "source": [
    "four_deliveries = delivery_df[delivery_df['batsman_runs'] == 4].shape[0]\n",
    "print('four_deliveries', ceil(100*four_deliveries / total_deliveries))\n",
    "four_deliveries"
   ]
  },
  {
   "cell_type": "code",
   "execution_count": 178,
   "metadata": {},
   "outputs": [
    {
     "name": "stdout",
     "output_type": "stream",
     "text": [
      "extra_run_deliveries 6\n"
     ]
    },
    {
     "data": {
      "text/plain": [
       "7469"
      ]
     },
     "execution_count": 178,
     "metadata": {},
     "output_type": "execute_result"
    }
   ],
   "source": [
    "extra_run_deliveries = delivery_df[delivery_df['extra_runs'] != 0].shape[0]\n",
    "print('extra_run_deliveries', ceil(100*extra_run_deliveries / total_deliveries))\n",
    "extra_run_deliveries"
   ]
  },
  {
   "cell_type": "code",
   "execution_count": 63,
   "metadata": {},
   "outputs": [
    {
     "name": "stdout",
     "output_type": "stream",
     "text": [
      "one_deliveries 37\n"
     ]
    }
   ],
   "source": [
    "one_deliveries = delivery_df[delivery_df['batsman_runs'] == 1].shape[0]\n",
    "print('one_deliveries', ceil(100*one_deliveries / total_deliveries))"
   ]
  },
  {
   "cell_type": "code",
   "execution_count": 64,
   "metadata": {},
   "outputs": [
    {
     "name": "stdout",
     "output_type": "stream",
     "text": [
      "two_deliveries 7\n"
     ]
    }
   ],
   "source": [
    "one_deliveries = delivery_df[delivery_df['batsman_runs'] == 2].shape[0]\n",
    "print('two_deliveries', ceil(100*one_deliveries / total_deliveries))"
   ]
  },
  {
   "cell_type": "code",
   "execution_count": 65,
   "metadata": {},
   "outputs": [
    {
     "name": "stdout",
     "output_type": "stream",
     "text": [
      "two_deliveries 1\n"
     ]
    }
   ],
   "source": [
    "one_deliveries = delivery_df[delivery_df['batsman_runs'] == 3].shape[0]\n",
    "print('two_deliveries', ceil(100*one_deliveries / total_deliveries))"
   ]
  },
  {
   "cell_type": "markdown",
   "metadata": {},
   "source": [
    "### Network Graph based on wins"
   ]
  },
  {
   "cell_type": "code",
   "execution_count": 74,
   "metadata": {},
   "outputs": [],
   "source": [
    "import networkx as nx"
   ]
  },
  {
   "cell_type": "code",
   "execution_count": 140,
   "metadata": {},
   "outputs": [],
   "source": [
    "# possible match-pair teams\n",
    "team_pairs = list(itertools.combinations(teams, 2))\n",
    "\n",
    "def pair_selector_function(p, q, team_a, team_b):\n",
    "    return sorted([p, q]) == sorted([team_a, team_b])\n",
    "\n",
    "def get_pair_results(team_a, team_b):\n",
    "    _df = df[df[['team1','team2']].apply(lambda x: pair_selector_function(*x, team_a, team_b), axis=1)]\n",
    "    \n",
    "    total = _df.shape[0]\n",
    "    total_team_a_win = _df[_df['winner'] == team_a].shape[0]\n",
    "    total_team_b_win = _df[_df['winner'] == team_b].shape[0]\n",
    "    \n",
    "    # print(\"Team A: {}, Team B: {}\".format(team_a, team_b))\n",
    "    \n",
    "    return {\n",
    "        'total': total,\n",
    "        team_a: total_team_a_win,\n",
    "        team_b: total_team_b_win,\n",
    "    }"
   ]
  },
  {
   "cell_type": "code",
   "execution_count": 158,
   "metadata": {},
   "outputs": [
    {
     "name": "stdout",
     "output_type": "stream",
     "text": [
      "<bound method Graph.edge_subgraph of <networkx.classes.digraph.DiGraph object at 0x1122b6898>>\n",
      "Kolkata Knight Riders 9.050342854962597\n",
      "Chennai Super Kings 6.95726173248562\n",
      "Rajasthan Royals 7.027748244335999\n",
      "Mumbai Indians 9.616531976554905\n",
      "Deccan Chargers 7.366434739164067\n",
      "Kings XI Punjab 8.825892275332073\n",
      "Royal Challengers Bangalore 6.544641803806213\n",
      "Delhi Daredevils 10.436575163917928\n",
      "Kochi Tuskers Kerala 9.115591743152304\n",
      "Pune Warriors 9.07750001452412\n",
      "Sunrisers Hyderabad 6.231418288161537\n",
      "Rising Pune Supergiants 5.705388213616469\n",
      "Gujarat Lions 4.044672949986168\n"
     ]
    }
   ],
   "source": [
    "DG = nx.DiGraph()\n",
    "weighted_edge_list = []\n",
    "\n",
    "team_never_played = set()\n",
    "\n",
    "for team_pair in team_pairs:\n",
    "    pair_results = get_pair_results(team_pair[0], team_pair[1])\n",
    "    \n",
    "    try:\n",
    "        weighted_edge_list.append((team_pair[0], team_pair[1], (pair_results[team_pair[0]] / pair_results['total'])))\n",
    "    except:\n",
    "        team_never_played.add(team_pair)\n",
    "        \n",
    "    try:\n",
    "        weighted_edge_list.append((team_pair[1], team_pair[0], (pair_results[team_pair[1]] / pair_results['total'])))\n",
    "    except:\n",
    "        team_never_played.add(team_pair)\n",
    "    \n",
    "DG.add_weighted_edges_from(weighted_edge_list)\n",
    "\n",
    "for t, s in nx.pagerank(DG).items():\n",
    "    print(t, s*100)"
   ]
  },
  {
   "cell_type": "code",
   "execution_count": 148,
   "metadata": {},
   "outputs": [
    {
     "name": "stdout",
     "output_type": "stream",
     "text": [
      "[('Kolkata Knight Riders', 'Chennai Super Kings', 0.375), ('Chennai Super Kings', 'Kolkata Knight Riders', 0.625), ('Kolkata Knight Riders', 'Rajasthan Royals', 0.4), ('Rajasthan Royals', 'Kolkata Knight Riders', 0.6), ('Kolkata Knight Riders', 'Mumbai Indians', 0.2777777777777778), ('Mumbai Indians', 'Kolkata Knight Riders', 0.7222222222222222), ('Kolkata Knight Riders', 'Deccan Chargers', 0.7777777777777778), ('Deccan Chargers', 'Kolkata Knight Riders', 0.2222222222222222), ('Kolkata Knight Riders', 'Kings XI Punjab', 0.6842105263157895), ('Kings XI Punjab', 'Kolkata Knight Riders', 0.3157894736842105), ('Kolkata Knight Riders', 'Royal Challengers Bangalore', 0.5), ('Royal Challengers Bangalore', 'Kolkata Knight Riders', 0.5), ('Kolkata Knight Riders', 'Delhi Daredevils', 0.5882352941176471), ('Delhi Daredevils', 'Kolkata Knight Riders', 0.4117647058823529), ('Kolkata Knight Riders', 'Kochi Tuskers Kerala', 0.0), ('Kochi Tuskers Kerala', 'Kolkata Knight Riders', 1.0), ('Kolkata Knight Riders', 'Pune Warriors', 0.8), ('Pune Warriors', 'Kolkata Knight Riders', 0.2), ('Kolkata Knight Riders', 'Sunrisers Hyderabad', 0.6666666666666666), ('Sunrisers Hyderabad', 'Kolkata Knight Riders', 0.3333333333333333), ('Kolkata Knight Riders', 'Rising Pune Supergiants', 1.0), ('Rising Pune Supergiants', 'Kolkata Knight Riders', 0.0), ('Kolkata Knight Riders', 'Gujarat Lions', 0.0), ('Gujarat Lions', 'Kolkata Knight Riders', 1.0), ('Chennai Super Kings', 'Rajasthan Royals', 0.6470588235294118), ('Rajasthan Royals', 'Chennai Super Kings', 0.35294117647058826), ('Chennai Super Kings', 'Mumbai Indians', 0.45454545454545453), ('Mumbai Indians', 'Chennai Super Kings', 0.5454545454545454), ('Chennai Super Kings', 'Deccan Chargers', 0.6), ('Deccan Chargers', 'Chennai Super Kings', 0.4), ('Chennai Super Kings', 'Kings XI Punjab', 0.5882352941176471), ('Kings XI Punjab', 'Chennai Super Kings', 0.4117647058823529), ('Chennai Super Kings', 'Royal Challengers Bangalore', 0.631578947368421), ('Royal Challengers Bangalore', 'Chennai Super Kings', 0.3684210526315789), ('Chennai Super Kings', 'Delhi Daredevils', 0.6875), ('Delhi Daredevils', 'Chennai Super Kings', 0.3125), ('Chennai Super Kings', 'Kochi Tuskers Kerala', 0.5), ('Kochi Tuskers Kerala', 'Chennai Super Kings', 0.5), ('Chennai Super Kings', 'Pune Warriors', 0.6666666666666666), ('Pune Warriors', 'Chennai Super Kings', 0.3333333333333333), ('Chennai Super Kings', 'Sunrisers Hyderabad', 0.6666666666666666), ('Sunrisers Hyderabad', 'Chennai Super Kings', 0.3333333333333333), ('Rajasthan Royals', 'Mumbai Indians', 0.375), ('Mumbai Indians', 'Rajasthan Royals', 0.625), ('Rajasthan Royals', 'Deccan Chargers', 0.7777777777777778), ('Deccan Chargers', 'Rajasthan Royals', 0.2222222222222222), ('Rajasthan Royals', 'Kings XI Punjab', 0.6), ('Kings XI Punjab', 'Rajasthan Royals', 0.4), ('Rajasthan Royals', 'Royal Challengers Bangalore', 0.4375), ('Royal Challengers Bangalore', 'Rajasthan Royals', 0.5), ('Rajasthan Royals', 'Delhi Daredevils', 0.625), ('Delhi Daredevils', 'Rajasthan Royals', 0.375), ('Rajasthan Royals', 'Kochi Tuskers Kerala', 0.5), ('Kochi Tuskers Kerala', 'Rajasthan Royals', 0.5), ('Rajasthan Royals', 'Pune Warriors', 0.8), ('Pune Warriors', 'Rajasthan Royals', 0.2), ('Rajasthan Royals', 'Sunrisers Hyderabad', 0.5714285714285714), ('Sunrisers Hyderabad', 'Rajasthan Royals', 0.42857142857142855), ('Mumbai Indians', 'Deccan Chargers', 0.6), ('Deccan Chargers', 'Mumbai Indians', 0.4), ('Mumbai Indians', 'Kings XI Punjab', 0.5), ('Kings XI Punjab', 'Mumbai Indians', 0.5), ('Mumbai Indians', 'Royal Challengers Bangalore', 0.5789473684210527), ('Royal Challengers Bangalore', 'Mumbai Indians', 0.42105263157894735), ('Mumbai Indians', 'Delhi Daredevils', 0.5), ('Delhi Daredevils', 'Mumbai Indians', 0.5), ('Mumbai Indians', 'Kochi Tuskers Kerala', 0.0), ('Kochi Tuskers Kerala', 'Mumbai Indians', 1.0), ('Mumbai Indians', 'Pune Warriors', 0.8333333333333334), ('Pune Warriors', 'Mumbai Indians', 0.16666666666666666), ('Mumbai Indians', 'Sunrisers Hyderabad', 0.5), ('Sunrisers Hyderabad', 'Mumbai Indians', 0.5), ('Mumbai Indians', 'Rising Pune Supergiants', 0.5), ('Rising Pune Supergiants', 'Mumbai Indians', 0.5), ('Mumbai Indians', 'Gujarat Lions', 0.0), ('Gujarat Lions', 'Mumbai Indians', 1.0), ('Deccan Chargers', 'Kings XI Punjab', 0.3), ('Kings XI Punjab', 'Deccan Chargers', 0.7), ('Deccan Chargers', 'Royal Challengers Bangalore', 0.5454545454545454), ('Royal Challengers Bangalore', 'Deccan Chargers', 0.45454545454545453), ('Deccan Chargers', 'Delhi Daredevils', 0.36363636363636365), ('Delhi Daredevils', 'Deccan Chargers', 0.6363636363636364), ('Deccan Chargers', 'Kochi Tuskers Kerala', 1.0), ('Kochi Tuskers Kerala', 'Deccan Chargers', 0.0), ('Deccan Chargers', 'Pune Warriors', 0.75), ('Pune Warriors', 'Deccan Chargers', 0.25), ('Kings XI Punjab', 'Royal Challengers Bangalore', 0.5555555555555556), ('Royal Challengers Bangalore', 'Kings XI Punjab', 0.4444444444444444), ('Kings XI Punjab', 'Delhi Daredevils', 0.5555555555555556), ('Delhi Daredevils', 'Kings XI Punjab', 0.4444444444444444), ('Kings XI Punjab', 'Kochi Tuskers Kerala', 1.0), ('Kochi Tuskers Kerala', 'Kings XI Punjab', 0.0), ('Kings XI Punjab', 'Pune Warriors', 0.5), ('Pune Warriors', 'Kings XI Punjab', 0.5), ('Kings XI Punjab', 'Sunrisers Hyderabad', 0.25), ('Sunrisers Hyderabad', 'Kings XI Punjab', 0.75), ('Kings XI Punjab', 'Rising Pune Supergiants', 0.5), ('Rising Pune Supergiants', 'Kings XI Punjab', 0.5), ('Kings XI Punjab', 'Gujarat Lions', 0.5), ('Gujarat Lions', 'Kings XI Punjab', 0.5), ('Royal Challengers Bangalore', 'Delhi Daredevils', 0.5882352941176471), ('Delhi Daredevils', 'Royal Challengers Bangalore', 0.35294117647058826), ('Royal Challengers Bangalore', 'Kochi Tuskers Kerala', 1.0), ('Kochi Tuskers Kerala', 'Royal Challengers Bangalore', 0.0), ('Royal Challengers Bangalore', 'Pune Warriors', 1.0), ('Pune Warriors', 'Royal Challengers Bangalore', 0.0), ('Royal Challengers Bangalore', 'Sunrisers Hyderabad', 0.4444444444444444), ('Sunrisers Hyderabad', 'Royal Challengers Bangalore', 0.5555555555555556), ('Royal Challengers Bangalore', 'Rising Pune Supergiants', 1.0), ('Rising Pune Supergiants', 'Royal Challengers Bangalore', 0.0), ('Royal Challengers Bangalore', 'Gujarat Lions', 0.6666666666666666), ('Gujarat Lions', 'Royal Challengers Bangalore', 0.3333333333333333), ('Delhi Daredevils', 'Kochi Tuskers Kerala', 0.5), ('Kochi Tuskers Kerala', 'Delhi Daredevils', 0.5), ('Delhi Daredevils', 'Pune Warriors', 0.5), ('Pune Warriors', 'Delhi Daredevils', 0.3333333333333333), ('Delhi Daredevils', 'Sunrisers Hyderabad', 0.375), ('Sunrisers Hyderabad', 'Delhi Daredevils', 0.625), ('Delhi Daredevils', 'Rising Pune Supergiants', 0.0), ('Rising Pune Supergiants', 'Delhi Daredevils', 1.0), ('Delhi Daredevils', 'Gujarat Lions', 0.5), ('Gujarat Lions', 'Delhi Daredevils', 0.5), ('Kochi Tuskers Kerala', 'Pune Warriors', 0.0), ('Pune Warriors', 'Kochi Tuskers Kerala', 1.0), ('Pune Warriors', 'Sunrisers Hyderabad', 0.0), ('Sunrisers Hyderabad', 'Pune Warriors', 1.0), ('Sunrisers Hyderabad', 'Rising Pune Supergiants', 0.5), ('Rising Pune Supergiants', 'Sunrisers Hyderabad', 0.5), ('Sunrisers Hyderabad', 'Gujarat Lions', 1.0), ('Gujarat Lions', 'Sunrisers Hyderabad', 0.0), ('Rising Pune Supergiants', 'Gujarat Lions', 0.0), ('Gujarat Lions', 'Rising Pune Supergiants', 1.0)]\n"
     ]
    }
   ],
   "source": [
    "print(weighted_edge_list)"
   ]
  },
  {
   "cell_type": "code",
   "execution_count": 173,
   "metadata": {},
   "outputs": [
    {
     "data": {
      "text/plain": [
       "{'a': 0.4864858243244209, 'b': 0.2429732819819368, 'c': 0.2705408936936421}"
      ]
     },
     "execution_count": 173,
     "metadata": {},
     "output_type": "execute_result"
    }
   ],
   "source": [
    "G=nx.DiGraph()\n",
    "e=[('a','b',0.7),('b','a',0.3),('a','c',0.8),('c','a',0.2)]\n",
    "G.add_weighted_edges_from(e)\n",
    "nx.pagerank(G)"
   ]
  },
  {
   "cell_type": "code",
   "execution_count": null,
   "metadata": {},
   "outputs": [],
   "source": []
  }
 ],
 "metadata": {
  "kernelspec": {
   "display_name": "Python 3",
   "language": "python",
   "name": "python3"
  },
  "language_info": {
   "codemirror_mode": {
    "name": "ipython",
    "version": 3
   },
   "file_extension": ".py",
   "mimetype": "text/x-python",
   "name": "python",
   "nbconvert_exporter": "python",
   "pygments_lexer": "ipython3",
   "version": "3.6.2"
  }
 },
 "nbformat": 4,
 "nbformat_minor": 2
}
