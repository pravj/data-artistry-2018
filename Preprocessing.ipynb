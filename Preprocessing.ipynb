{
 "cells": [
  {
   "cell_type": "markdown",
   "metadata": {},
   "source": [
    "- choropleth map for all the teams and their favorite (worst) ground\n",
    "- best openers and their help in win\n",
    "- best finishers and their help in win\n",
    "- bowlers and batsman pair to watch\n",
    "- map of most destructive batsman"
   ]
  },
  {
   "cell_type": "code",
   "execution_count": 1,
   "metadata": {},
   "outputs": [],
   "source": [
    "import pandas as pd\n",
    "from collections import Counter"
   ]
  },
  {
   "cell_type": "code",
   "execution_count": 2,
   "metadata": {},
   "outputs": [],
   "source": [
    "df = pd.read_csv('./datasets/matches.dmp')"
   ]
  },
  {
   "cell_type": "code",
   "execution_count": 3,
   "metadata": {},
   "outputs": [
    {
     "data": {
      "text/html": [
       "<div>\n",
       "<style scoped>\n",
       "    .dataframe tbody tr th:only-of-type {\n",
       "        vertical-align: middle;\n",
       "    }\n",
       "\n",
       "    .dataframe tbody tr th {\n",
       "        vertical-align: top;\n",
       "    }\n",
       "\n",
       "    .dataframe thead th {\n",
       "        text-align: right;\n",
       "    }\n",
       "</style>\n",
       "<table border=\"1\" class=\"dataframe\">\n",
       "  <thead>\n",
       "    <tr style=\"text-align: right;\">\n",
       "      <th></th>\n",
       "      <th>id</th>\n",
       "      <th>season</th>\n",
       "      <th>city</th>\n",
       "      <th>date</th>\n",
       "      <th>team1</th>\n",
       "      <th>team2</th>\n",
       "      <th>toss_winner</th>\n",
       "      <th>toss_decision</th>\n",
       "      <th>result</th>\n",
       "      <th>dl_applied</th>\n",
       "      <th>winner</th>\n",
       "      <th>win_by_runs</th>\n",
       "      <th>win_by_wickets</th>\n",
       "      <th>player_of_match</th>\n",
       "      <th>venue</th>\n",
       "      <th>umpire1</th>\n",
       "      <th>umpire2</th>\n",
       "      <th>umpire3</th>\n",
       "    </tr>\n",
       "  </thead>\n",
       "  <tbody>\n",
       "    <tr>\n",
       "      <th>0</th>\n",
       "      <td>1</td>\n",
       "      <td>2008</td>\n",
       "      <td>Bangalore</td>\n",
       "      <td>2008-04-18</td>\n",
       "      <td>Kolkata Knight Riders</td>\n",
       "      <td>Royal Challengers Bangalore</td>\n",
       "      <td>Royal Challengers Bangalore</td>\n",
       "      <td>field</td>\n",
       "      <td>normal</td>\n",
       "      <td>0</td>\n",
       "      <td>Kolkata Knight Riders</td>\n",
       "      <td>140</td>\n",
       "      <td>0</td>\n",
       "      <td>BB McCullum</td>\n",
       "      <td>M Chinnaswamy Stadium</td>\n",
       "      <td>Asad Rauf</td>\n",
       "      <td>RE Koertzen</td>\n",
       "      <td>NaN</td>\n",
       "    </tr>\n",
       "    <tr>\n",
       "      <th>1</th>\n",
       "      <td>2</td>\n",
       "      <td>2008</td>\n",
       "      <td>Chandigarh</td>\n",
       "      <td>2008-04-19</td>\n",
       "      <td>Chennai Super Kings</td>\n",
       "      <td>Kings XI Punjab</td>\n",
       "      <td>Chennai Super Kings</td>\n",
       "      <td>bat</td>\n",
       "      <td>normal</td>\n",
       "      <td>0</td>\n",
       "      <td>Chennai Super Kings</td>\n",
       "      <td>33</td>\n",
       "      <td>0</td>\n",
       "      <td>MEK Hussey</td>\n",
       "      <td>Punjab Cricket Association Stadium, Mohali</td>\n",
       "      <td>MR Benson</td>\n",
       "      <td>SL Shastri</td>\n",
       "      <td>NaN</td>\n",
       "    </tr>\n",
       "    <tr>\n",
       "      <th>2</th>\n",
       "      <td>3</td>\n",
       "      <td>2008</td>\n",
       "      <td>Delhi</td>\n",
       "      <td>2008-04-19</td>\n",
       "      <td>Rajasthan Royals</td>\n",
       "      <td>Delhi Daredevils</td>\n",
       "      <td>Rajasthan Royals</td>\n",
       "      <td>bat</td>\n",
       "      <td>normal</td>\n",
       "      <td>0</td>\n",
       "      <td>Delhi Daredevils</td>\n",
       "      <td>0</td>\n",
       "      <td>9</td>\n",
       "      <td>MF Maharoof</td>\n",
       "      <td>Feroz Shah Kotla</td>\n",
       "      <td>Aleem Dar</td>\n",
       "      <td>GA Pratapkumar</td>\n",
       "      <td>NaN</td>\n",
       "    </tr>\n",
       "    <tr>\n",
       "      <th>3</th>\n",
       "      <td>4</td>\n",
       "      <td>2008</td>\n",
       "      <td>Mumbai</td>\n",
       "      <td>2008-04-20</td>\n",
       "      <td>Mumbai Indians</td>\n",
       "      <td>Royal Challengers Bangalore</td>\n",
       "      <td>Mumbai Indians</td>\n",
       "      <td>bat</td>\n",
       "      <td>normal</td>\n",
       "      <td>0</td>\n",
       "      <td>Royal Challengers Bangalore</td>\n",
       "      <td>0</td>\n",
       "      <td>5</td>\n",
       "      <td>MV Boucher</td>\n",
       "      <td>Wankhede Stadium</td>\n",
       "      <td>SJ Davis</td>\n",
       "      <td>DJ Harper</td>\n",
       "      <td>NaN</td>\n",
       "    </tr>\n",
       "    <tr>\n",
       "      <th>4</th>\n",
       "      <td>5</td>\n",
       "      <td>2008</td>\n",
       "      <td>Kolkata</td>\n",
       "      <td>2008-04-20</td>\n",
       "      <td>Deccan Chargers</td>\n",
       "      <td>Kolkata Knight Riders</td>\n",
       "      <td>Deccan Chargers</td>\n",
       "      <td>bat</td>\n",
       "      <td>normal</td>\n",
       "      <td>0</td>\n",
       "      <td>Kolkata Knight Riders</td>\n",
       "      <td>0</td>\n",
       "      <td>5</td>\n",
       "      <td>DJ Hussey</td>\n",
       "      <td>Eden Gardens</td>\n",
       "      <td>BF Bowden</td>\n",
       "      <td>K Hariharan</td>\n",
       "      <td>NaN</td>\n",
       "    </tr>\n",
       "  </tbody>\n",
       "</table>\n",
       "</div>"
      ],
      "text/plain": [
       "   id  season        city        date                  team1  \\\n",
       "0   1    2008   Bangalore  2008-04-18  Kolkata Knight Riders   \n",
       "1   2    2008  Chandigarh  2008-04-19    Chennai Super Kings   \n",
       "2   3    2008       Delhi  2008-04-19       Rajasthan Royals   \n",
       "3   4    2008      Mumbai  2008-04-20         Mumbai Indians   \n",
       "4   5    2008     Kolkata  2008-04-20        Deccan Chargers   \n",
       "\n",
       "                         team2                  toss_winner toss_decision  \\\n",
       "0  Royal Challengers Bangalore  Royal Challengers Bangalore         field   \n",
       "1              Kings XI Punjab          Chennai Super Kings           bat   \n",
       "2             Delhi Daredevils             Rajasthan Royals           bat   \n",
       "3  Royal Challengers Bangalore               Mumbai Indians           bat   \n",
       "4        Kolkata Knight Riders              Deccan Chargers           bat   \n",
       "\n",
       "   result  dl_applied                       winner  win_by_runs  \\\n",
       "0  normal           0        Kolkata Knight Riders          140   \n",
       "1  normal           0          Chennai Super Kings           33   \n",
       "2  normal           0             Delhi Daredevils            0   \n",
       "3  normal           0  Royal Challengers Bangalore            0   \n",
       "4  normal           0        Kolkata Knight Riders            0   \n",
       "\n",
       "   win_by_wickets player_of_match                                       venue  \\\n",
       "0               0     BB McCullum                       M Chinnaswamy Stadium   \n",
       "1               0      MEK Hussey  Punjab Cricket Association Stadium, Mohali   \n",
       "2               9     MF Maharoof                            Feroz Shah Kotla   \n",
       "3               5      MV Boucher                            Wankhede Stadium   \n",
       "4               5       DJ Hussey                                Eden Gardens   \n",
       "\n",
       "     umpire1         umpire2  umpire3  \n",
       "0  Asad Rauf     RE Koertzen      NaN  \n",
       "1  MR Benson      SL Shastri      NaN  \n",
       "2  Aleem Dar  GA Pratapkumar      NaN  \n",
       "3   SJ Davis       DJ Harper      NaN  \n",
       "4  BF Bowden     K Hariharan      NaN  "
      ]
     },
     "execution_count": 3,
     "metadata": {},
     "output_type": "execute_result"
    }
   ],
   "source": [
    "df.head()"
   ]
  },
  {
   "cell_type": "markdown",
   "metadata": {},
   "source": [
    "### Teams"
   ]
  },
  {
   "cell_type": "code",
   "execution_count": 4,
   "metadata": {
    "scrolled": true
   },
   "outputs": [
    {
     "data": {
      "text/plain": [
       "['Kolkata Knight Riders',\n",
       " 'Chennai Super Kings',\n",
       " 'Rajasthan Royals',\n",
       " 'Mumbai Indians',\n",
       " 'Deccan Chargers',\n",
       " 'Kings XI Punjab',\n",
       " 'Royal Challengers Bangalore',\n",
       " 'Delhi Daredevils',\n",
       " 'Kochi Tuskers Kerala',\n",
       " 'Pune Warriors',\n",
       " 'Sunrisers Hyderabad',\n",
       " 'Rising Pune Supergiants',\n",
       " 'Gujarat Lions']"
      ]
     },
     "execution_count": 4,
     "metadata": {},
     "output_type": "execute_result"
    }
   ],
   "source": [
    "teams = list(df['team1'].unique())\n",
    "teams"
   ]
  },
  {
   "cell_type": "markdown",
   "metadata": {},
   "source": [
    "### Grounds"
   ]
  },
  {
   "cell_type": "code",
   "execution_count": 5,
   "metadata": {},
   "outputs": [
    {
     "data": {
      "text/plain": [
       "['M Chinnaswamy Stadium',\n",
       " 'Punjab Cricket Association Stadium, Mohali',\n",
       " 'Feroz Shah Kotla',\n",
       " 'Wankhede Stadium',\n",
       " 'Eden Gardens',\n",
       " 'Sawai Mansingh Stadium',\n",
       " 'Rajiv Gandhi International Stadium, Uppal',\n",
       " 'MA Chidambaram Stadium, Chepauk',\n",
       " 'Dr DY Patil Sports Academy',\n",
       " 'Newlands',\n",
       " \"St George's Park\",\n",
       " 'Kingsmead',\n",
       " 'SuperSport Park',\n",
       " 'Buffalo Park',\n",
       " 'New Wanderers Stadium',\n",
       " 'De Beers Diamond Oval',\n",
       " 'OUTsurance Oval',\n",
       " 'Brabourne Stadium',\n",
       " 'Sardar Patel Stadium, Motera',\n",
       " 'Barabati Stadium',\n",
       " 'Vidarbha Cricket Association Stadium, Jamtha',\n",
       " 'Himachal Pradesh Cricket Association Stadium',\n",
       " 'Nehru Stadium',\n",
       " 'Holkar Cricket Stadium',\n",
       " 'Dr. Y.S. Rajasekhara Reddy ACA-VDCA Cricket Stadium',\n",
       " 'Subrata Roy Sahara Stadium',\n",
       " 'Shaheed Veer Narayan Singh International Stadium',\n",
       " 'JSCA International Stadium Complex',\n",
       " 'Sheikh Zayed Stadium',\n",
       " 'Sharjah Cricket Stadium',\n",
       " 'Dubai International Cricket Stadium',\n",
       " 'Maharashtra Cricket Association Stadium',\n",
       " 'Punjab Cricket Association IS Bindra Stadium, Mohali',\n",
       " 'Saurashtra Cricket Association Stadium',\n",
       " 'Green Park']"
      ]
     },
     "execution_count": 5,
     "metadata": {},
     "output_type": "execute_result"
    }
   ],
   "source": [
    "grounds = list(df['venue'].unique())\n",
    "grounds"
   ]
  },
  {
   "cell_type": "code",
   "execution_count": 45,
   "metadata": {},
   "outputs": [],
   "source": [
    "non_indian_grounds = [\n",
    "     'Newlands',\n",
    "     \"St George's Park\",\n",
    "     'Kingsmead',\n",
    "     'SuperSport Park',\n",
    "     'Buffalo Park',\n",
    "     'New Wanderers Stadium',\n",
    "     'De Beers Diamond Oval',\n",
    "     'OUTsurance Oval',\n",
    "     'Sheikh Zayed Stadium',\n",
    "     'Sharjah Cricket Stadium',\n",
    "     'Dubai International Cricket Stadium',\n",
    "]\n",
    "\n",
    "def is_indian_ground(ground_name):\n",
    "    return False if ground_name in non_indian_grounds else True"
   ]
  },
  {
   "cell_type": "code",
   "execution_count": 50,
   "metadata": {},
   "outputs": [],
   "source": [
    "def get_grounds_results(team_name):\n",
    "    # append the team1/team2 appearance\n",
    "    df1 = df[df['team1'] == team_name]\n",
    "    df2 = df[df['team2'] == team_name]\n",
    "    _df = df1.append(df2)\n",
    "    \n",
    "    # win and lose for each ground\n",
    "    _won = Counter(filter(lambda g: is_indian_ground(g), list(_df[_df['winner'] == team_name]['venue'])))\n",
    "    _lost = Counter(filter(lambda g: is_indian_ground(g), list(_df[_df['winner'] != team_name]['venue'])))\n",
    "    \n",
    "    # total grounds the team has played on\n",
    "    _grounds = set(_won).union(set(_lost))\n",
    "    \n",
    "    _matches = []\n",
    "    \n",
    "    # Mohali ground has multiple names in dataset\n",
    "    mohali_v1_name = \"Punjab Cricket Association Stadium, Mohali\"\n",
    "    mohali_v2_name = \"Punjab Cricket Association IS Bindra Stadium, Mohali\"\n",
    "    mohali_v2_won, mohali_v2_lost = _won.get(mohali_v2_name, 0), _lost.get(mohali_v2_name, 0)\n",
    "    \n",
    "    # iterate over all grounds\n",
    "    for g in list(_grounds):\n",
    "        # ignore the mohali grounds\n",
    "        if g not in [mohali_v1_name, mohali_v2_name]:\n",
    "            _matches.append({\n",
    "                'ground': g,\n",
    "                'won': _won.get(g, 0),\n",
    "                'lost': _lost.get(g, 0),\n",
    "            })  \n",
    "            \n",
    "    # unify the mohali results\n",
    "    _matches.append({\n",
    "        'ground': mohali_v1_name,\n",
    "        'won': _won.get(mohali_v1_name, 0) + (mohali_v2_won),\n",
    "        'lost': _lost.get(mohali_v1_name, 0) + (mohali_v2_lost),\n",
    "    })\n",
    "    \n",
    "    result = {\n",
    "        team_name: _matches\n",
    "    }\n",
    "    \n",
    "    return result"
   ]
  },
  {
   "cell_type": "code",
   "execution_count": 51,
   "metadata": {},
   "outputs": [
    {
     "name": "stdout",
     "output_type": "stream",
     "text": [
      "--------------------\n",
      " Kolkata Knight Riders\n",
      "{'Kolkata Knight Riders': [{'ground': 'M Chinnaswamy Stadium', 'won': 4, 'lost': 4}, {'ground': 'Barabati Stadium', 'won': 3, 'lost': 0}, {'ground': 'Eden Gardens', 'won': 33, 'lost': 18}, {'ground': 'JSCA International Stadium Complex', 'won': 1, 'lost': 2}, {'ground': 'Sardar Patel Stadium, Motera', 'won': 0, 'lost': 2}, {'ground': 'Wankhede Stadium', 'won': 1, 'lost': 5}, {'ground': 'Rajiv Gandhi International Stadium, Uppal', 'won': 4, 'lost': 1}, {'ground': 'Maharashtra Cricket Association Stadium', 'won': 2, 'lost': 0}, {'ground': 'Dr. Y.S. Rajasekhara Reddy ACA-VDCA Cricket Stadium', 'won': 0, 'lost': 1}, {'ground': 'Brabourne Stadium', 'won': 0, 'lost': 2}, {'ground': 'Green Park', 'won': 0, 'lost': 1}, {'ground': 'Shaheed Veer Narayan Singh International Stadium', 'won': 0, 'lost': 1}, {'ground': 'Nehru Stadium', 'won': 0, 'lost': 1}, {'ground': 'Sawai Mansingh Stadium', 'won': 1, 'lost': 3}, {'ground': 'Dr DY Patil Sports Academy', 'won': 2, 'lost': 0}, {'ground': 'Subrata Roy Sahara Stadium', 'won': 3, 'lost': 0}, {'ground': 'Feroz Shah Kotla', 'won': 4, 'lost': 3}, {'ground': 'MA Chidambaram Stadium, Chepauk', 'won': 2, 'lost': 5}, {'ground': 'Punjab Cricket Association Stadium, Mohali', 'won': 3, 'lost': 2}]}\n",
      "--------------------\n",
      " Chennai Super Kings\n",
      "{'Chennai Super Kings': [{'ground': 'M Chinnaswamy Stadium', 'won': 4, 'lost': 3}, {'ground': 'Eden Gardens', 'won': 4, 'lost': 5}, {'ground': 'JSCA International Stadium Complex', 'won': 3, 'lost': 2}, {'ground': 'Sardar Patel Stadium, Motera', 'won': 0, 'lost': 2}, {'ground': 'Dr. Y.S. Rajasekhara Reddy ACA-VDCA Cricket Stadium', 'won': 1, 'lost': 0}, {'ground': 'Brabourne Stadium', 'won': 1, 'lost': 1}, {'ground': 'Sawai Mansingh Stadium', 'won': 2, 'lost': 2}, {'ground': 'Dr DY Patil Sports Academy', 'won': 3, 'lost': 1}, {'ground': 'Feroz Shah Kotla', 'won': 5, 'lost': 1}, {'ground': 'Himachal Pradesh Cricket Association Stadium', 'won': 1, 'lost': 1}, {'ground': 'Barabati Stadium', 'won': 0, 'lost': 1}, {'ground': 'Vidarbha Cricket Association Stadium, Jamtha', 'won': 0, 'lost': 1}, {'ground': 'Wankhede Stadium', 'won': 4, 'lost': 6}, {'ground': 'Rajiv Gandhi International Stadium, Uppal', 'won': 2, 'lost': 1}, {'ground': 'Shaheed Veer Narayan Singh International Stadium', 'won': 0, 'lost': 1}, {'ground': 'Nehru Stadium', 'won': 0, 'lost': 1}, {'ground': 'Subrata Roy Sahara Stadium', 'won': 1, 'lost': 1}, {'ground': 'MA Chidambaram Stadium, Chepauk', 'won': 33, 'lost': 14}, {'ground': 'Punjab Cricket Association Stadium, Mohali', 'won': 3, 'lost': 1}]}\n",
      "--------------------\n",
      " Rajasthan Royals\n",
      "{'Rajasthan Royals': [{'ground': 'M Chinnaswamy Stadium', 'won': 3, 'lost': 3}, {'ground': 'Eden Gardens', 'won': 1, 'lost': 5}, {'ground': 'JSCA International Stadium Complex', 'won': 0, 'lost': 1}, {'ground': 'Sardar Patel Stadium, Motera', 'won': 7, 'lost': 5}, {'ground': 'Vidarbha Cricket Association Stadium, Jamtha', 'won': 1, 'lost': 0}, {'ground': 'Holkar Cricket Stadium', 'won': 0, 'lost': 1}, {'ground': 'Wankhede Stadium', 'won': 2, 'lost': 4}, {'ground': 'Rajiv Gandhi International Stadium, Uppal', 'won': 2, 'lost': 2}, {'ground': 'Maharashtra Cricket Association Stadium', 'won': 1, 'lost': 1}, {'ground': 'Dr. Y.S. Rajasekhara Reddy ACA-VDCA Cricket Stadium', 'won': 1, 'lost': 0}, {'ground': 'Brabourne Stadium', 'won': 2, 'lost': 2}, {'ground': 'Sawai Mansingh Stadium', 'won': 24, 'lost': 9}, {'ground': 'Dr DY Patil Sports Academy', 'won': 1, 'lost': 1}, {'ground': 'Subrata Roy Sahara Stadium', 'won': 1, 'lost': 1}, {'ground': 'Feroz Shah Kotla', 'won': 4, 'lost': 3}, {'ground': 'MA Chidambaram Stadium, Chepauk', 'won': 1, 'lost': 5}, {'ground': 'Punjab Cricket Association Stadium, Mohali', 'won': 3, 'lost': 3}]}\n",
      "--------------------\n",
      " Mumbai Indians\n",
      "{'Mumbai Indians': [{'ground': 'Himachal Pradesh Cricket Association Stadium', 'won': 0, 'lost': 1}, {'ground': 'M Chinnaswamy Stadium', 'won': 6, 'lost': 2}, {'ground': 'Barabati Stadium', 'won': 0, 'lost': 1}, {'ground': 'Eden Gardens', 'won': 8, 'lost': 2}, {'ground': 'Sardar Patel Stadium, Motera', 'won': 1, 'lost': 1}, {'ground': 'Wankhede Stadium', 'won': 29, 'lost': 16}, {'ground': 'Rajiv Gandhi International Stadium, Uppal', 'won': 4, 'lost': 2}, {'ground': 'Maharashtra Cricket Association Stadium', 'won': 1, 'lost': 0}, {'ground': 'Dr. Y.S. Rajasekhara Reddy ACA-VDCA Cricket Stadium', 'won': 2, 'lost': 2}, {'ground': 'Brabourne Stadium', 'won': 6, 'lost': 2}, {'ground': 'Green Park', 'won': 0, 'lost': 1}, {'ground': 'Sawai Mansingh Stadium', 'won': 2, 'lost': 3}, {'ground': 'Dr DY Patil Sports Academy', 'won': 5, 'lost': 2}, {'ground': 'Subrata Roy Sahara Stadium', 'won': 2, 'lost': 0}, {'ground': 'Feroz Shah Kotla', 'won': 2, 'lost': 6}, {'ground': 'MA Chidambaram Stadium, Chepauk', 'won': 3, 'lost': 3}, {'ground': 'Punjab Cricket Association Stadium, Mohali', 'won': 4, 'lost': 3}]}\n",
      "--------------------\n",
      " Deccan Chargers\n",
      "{'Deccan Chargers': [{'ground': 'Himachal Pradesh Cricket Association Stadium', 'won': 2, 'lost': 0}, {'ground': 'Barabati Stadium', 'won': 3, 'lost': 1}, {'ground': 'M Chinnaswamy Stadium', 'won': 1, 'lost': 2}, {'ground': 'Eden Gardens', 'won': 0, 'lost': 3}, {'ground': 'Sardar Patel Stadium, Motera', 'won': 0, 'lost': 1}, {'ground': 'Vidarbha Cricket Association Stadium, Jamtha', 'won': 2, 'lost': 1}, {'ground': 'Wankhede Stadium', 'won': 1, 'lost': 1}, {'ground': 'Rajiv Gandhi International Stadium, Uppal', 'won': 3, 'lost': 15}, {'ground': 'Dr. Y.S. Rajasekhara Reddy ACA-VDCA Cricket Stadium', 'won': 0, 'lost': 2}, {'ground': 'Brabourne Stadium', 'won': 0, 'lost': 1}, {'ground': 'Nehru Stadium', 'won': 1, 'lost': 0}, {'ground': 'Sawai Mansingh Stadium', 'won': 0, 'lost': 2}, {'ground': 'Dr DY Patil Sports Academy', 'won': 2, 'lost': 4}, {'ground': 'Subrata Roy Sahara Stadium', 'won': 1, 'lost': 0}, {'ground': 'Feroz Shah Kotla', 'won': 2, 'lost': 2}, {'ground': 'MA Chidambaram Stadium, Chepauk', 'won': 2, 'lost': 2}, {'ground': 'Punjab Cricket Association Stadium, Mohali', 'won': 0, 'lost': 2}]}\n",
      "--------------------\n",
      " Kings XI Punjab\n",
      "{'Kings XI Punjab': [{'ground': 'Himachal Pradesh Cricket Association Stadium', 'won': 5, 'lost': 4}, {'ground': 'Barabati Stadium', 'won': 1, 'lost': 2}, {'ground': 'M Chinnaswamy Stadium', 'won': 4, 'lost': 5}, {'ground': 'Eden Gardens', 'won': 2, 'lost': 6}, {'ground': 'Sardar Patel Stadium, Motera', 'won': 1, 'lost': 0}, {'ground': 'Holkar Cricket Stadium', 'won': 1, 'lost': 0}, {'ground': 'Wankhede Stadium', 'won': 4, 'lost': 4}, {'ground': 'Rajiv Gandhi International Stadium, Uppal', 'won': 4, 'lost': 3}, {'ground': 'Maharashtra Cricket Association Stadium', 'won': 0, 'lost': 3}, {'ground': 'Dr. Y.S. Rajasekhara Reddy ACA-VDCA Cricket Stadium', 'won': 1, 'lost': 1}, {'ground': 'Brabourne Stadium', 'won': 0, 'lost': 1}, {'ground': 'Saurashtra Cricket Association Stadium', 'won': 1, 'lost': 0}, {'ground': 'Sawai Mansingh Stadium', 'won': 0, 'lost': 4}, {'ground': 'Dr DY Patil Sports Academy', 'won': 0, 'lost': 1}, {'ground': 'Subrata Roy Sahara Stadium', 'won': 1, 'lost': 1}, {'ground': 'Feroz Shah Kotla', 'won': 4, 'lost': 4}, {'ground': 'MA Chidambaram Stadium, Chepauk', 'won': 2, 'lost': 3}, {'ground': 'Punjab Cricket Association Stadium, Mohali', 'won': 20, 'lost': 22}]}\n",
      "--------------------\n",
      " Royal Challengers Bangalore\n",
      "{'Royal Challengers Bangalore': [{'ground': 'Himachal Pradesh Cricket Association Stadium', 'won': 0, 'lost': 1}, {'ground': 'M Chinnaswamy Stadium', 'won': 29, 'lost': 27}, {'ground': 'Eden Gardens', 'won': 3, 'lost': 4}, {'ground': 'JSCA International Stadium Complex', 'won': 1, 'lost': 2}, {'ground': 'Sardar Patel Stadium, Motera', 'won': 1, 'lost': 0}, {'ground': 'Vidarbha Cricket Association Stadium, Jamtha', 'won': 0, 'lost': 1}, {'ground': 'Wankhede Stadium', 'won': 3, 'lost': 4}, {'ground': 'Rajiv Gandhi International Stadium, Uppal', 'won': 2, 'lost': 5}, {'ground': 'Maharashtra Cricket Association Stadium', 'won': 2, 'lost': 0}, {'ground': 'Brabourne Stadium', 'won': 1, 'lost': 0}, {'ground': 'Shaheed Veer Narayan Singh International Stadium', 'won': 1, 'lost': 0}, {'ground': 'Nehru Stadium', 'won': 1, 'lost': 0}, {'ground': 'Sawai Mansingh Stadium', 'won': 3, 'lost': 2}, {'ground': 'Saurashtra Cricket Association Stadium', 'won': 0, 'lost': 1}, {'ground': 'Dr DY Patil Sports Academy', 'won': 1, 'lost': 1}, {'ground': 'Subrata Roy Sahara Stadium', 'won': 2, 'lost': 0}, {'ground': 'Feroz Shah Kotla', 'won': 4, 'lost': 2}, {'ground': 'MA Chidambaram Stadium, Chepauk', 'won': 2, 'lost': 6}, {'ground': 'Punjab Cricket Association Stadium, Mohali', 'won': 3, 'lost': 3}]}\n",
      "--------------------\n",
      " Delhi Daredevils\n",
      "{'Delhi Daredevils': [{'ground': 'Himachal Pradesh Cricket Association Stadium', 'won': 1, 'lost': 2}, {'ground': 'M Chinnaswamy Stadium', 'won': 3, 'lost': 4}, {'ground': 'Barabati Stadium', 'won': 0, 'lost': 1}, {'ground': 'Eden Gardens', 'won': 1, 'lost': 5}, {'ground': 'Sardar Patel Stadium, Motera', 'won': 1, 'lost': 1}, {'ground': 'Wankhede Stadium', 'won': 1, 'lost': 5}, {'ground': 'Rajiv Gandhi International Stadium, Uppal', 'won': 4, 'lost': 1}, {'ground': 'Maharashtra Cricket Association Stadium', 'won': 1, 'lost': 0}, {'ground': 'Dr. Y.S. Rajasekhara Reddy ACA-VDCA Cricket Stadium', 'won': 1, 'lost': 2}, {'ground': 'Brabourne Stadium', 'won': 0, 'lost': 2}, {'ground': 'Shaheed Veer Narayan Singh International Stadium', 'won': 4, 'lost': 2}, {'ground': 'Nehru Stadium', 'won': 1, 'lost': 0}, {'ground': 'Sawai Mansingh Stadium', 'won': 1, 'lost': 3}, {'ground': 'Saurashtra Cricket Association Stadium', 'won': 1, 'lost': 0}, {'ground': 'Dr DY Patil Sports Academy', 'won': 1, 'lost': 1}, {'ground': 'Subrata Roy Sahara Stadium', 'won': 1, 'lost': 2}, {'ground': 'Feroz Shah Kotla', 'won': 19, 'lost': 30}, {'ground': 'MA Chidambaram Stadium, Chepauk', 'won': 2, 'lost': 5}, {'ground': 'Punjab Cricket Association Stadium, Mohali', 'won': 1, 'lost': 3}]}\n",
      "--------------------\n",
      " Kochi Tuskers Kerala\n",
      "{'Kochi Tuskers Kerala': [{'ground': 'M Chinnaswamy Stadium', 'won': 0, 'lost': 1}, {'ground': 'Eden Gardens', 'won': 1, 'lost': 0}, {'ground': 'Nehru Stadium', 'won': 2, 'lost': 3}, {'ground': 'Sawai Mansingh Stadium', 'won': 0, 'lost': 1}, {'ground': 'Dr DY Patil Sports Academy', 'won': 0, 'lost': 1}, {'ground': 'Holkar Cricket Stadium', 'won': 1, 'lost': 1}, {'ground': 'Feroz Shah Kotla', 'won': 1, 'lost': 0}, {'ground': 'MA Chidambaram Stadium, Chepauk', 'won': 0, 'lost': 1}, {'ground': 'Wankhede Stadium', 'won': 1, 'lost': 0}, {'ground': 'Punjab Cricket Association Stadium, Mohali', 'won': 0, 'lost': 0}]}\n",
      "--------------------\n",
      " Pune Warriors\n",
      "{'Pune Warriors': [{'ground': 'Rajiv Gandhi International Stadium, Uppal', 'won': 1, 'lost': 1}, {'ground': 'M Chinnaswamy Stadium', 'won': 0, 'lost': 3}, {'ground': 'Barabati Stadium', 'won': 0, 'lost': 1}, {'ground': 'Shaheed Veer Narayan Singh International Stadium', 'won': 0, 'lost': 1}, {'ground': 'Eden Gardens', 'won': 0, 'lost': 1}, {'ground': 'Sawai Mansingh Stadium', 'won': 0, 'lost': 3}, {'ground': 'JSCA International Stadium Complex', 'won': 1, 'lost': 0}, {'ground': 'Dr DY Patil Sports Academy', 'won': 2, 'lost': 5}, {'ground': 'Subrata Roy Sahara Stadium', 'won': 4, 'lost': 12}, {'ground': 'Feroz Shah Kotla', 'won': 1, 'lost': 1}, {'ground': 'MA Chidambaram Stadium, Chepauk', 'won': 1, 'lost': 2}, {'ground': 'Wankhede Stadium', 'won': 1, 'lost': 2}, {'ground': 'Punjab Cricket Association Stadium, Mohali', 'won': 1, 'lost': 2}]}\n",
      "--------------------\n",
      " Sunrisers Hyderabad\n",
      "{'Sunrisers Hyderabad': [{'ground': 'M Chinnaswamy Stadium', 'won': 2, 'lost': 3}, {'ground': 'Eden Gardens', 'won': 0, 'lost': 4}, {'ground': 'JSCA International Stadium Complex', 'won': 1, 'lost': 0}, {'ground': 'Sardar Patel Stadium, Motera', 'won': 1, 'lost': 0}, {'ground': 'Wankhede Stadium', 'won': 0, 'lost': 2}, {'ground': 'Rajiv Gandhi International Stadium, Uppal', 'won': 14, 'lost': 9}, {'ground': 'Dr. Y.S. Rajasekhara Reddy ACA-VDCA Cricket Stadium', 'won': 3, 'lost': 2}, {'ground': 'Brabourne Stadium', 'won': 1, 'lost': 0}, {'ground': 'Shaheed Veer Narayan Singh International Stadium', 'won': 1, 'lost': 1}, {'ground': 'Saurashtra Cricket Association Stadium', 'won': 1, 'lost': 0}, {'ground': 'Sawai Mansingh Stadium', 'won': 0, 'lost': 1}, {'ground': 'Subrata Roy Sahara Stadium', 'won': 1, 'lost': 0}, {'ground': 'Feroz Shah Kotla', 'won': 4, 'lost': 1}, {'ground': 'MA Chidambaram Stadium, Chepauk', 'won': 0, 'lost': 2}, {'ground': 'Punjab Cricket Association Stadium, Mohali', 'won': 3, 'lost': 0}]}\n",
      "--------------------\n",
      " Rising Pune Supergiants\n",
      "{'Rising Pune Supergiants': [{'ground': 'Rajiv Gandhi International Stadium, Uppal', 'won': 1, 'lost': 0}, {'ground': 'Maharashtra Cricket Association Stadium', 'won': 0, 'lost': 4}, {'ground': 'Dr. Y.S. Rajasekhara Reddy ACA-VDCA Cricket Stadium', 'won': 2, 'lost': 1}, {'ground': 'M Chinnaswamy Stadium', 'won': 0, 'lost': 1}, {'ground': 'Eden Gardens', 'won': 0, 'lost': 1}, {'ground': 'Saurashtra Cricket Association Stadium', 'won': 0, 'lost': 1}, {'ground': 'Feroz Shah Kotla', 'won': 1, 'lost': 0}, {'ground': 'Wankhede Stadium', 'won': 1, 'lost': 0}, {'ground': 'Punjab Cricket Association Stadium, Mohali', 'won': 0, 'lost': 1}]}\n",
      "--------------------\n",
      " Gujarat Lions\n",
      "{'Gujarat Lions': [{'ground': 'Rajiv Gandhi International Stadium, Uppal', 'won': 0, 'lost': 1}, {'ground': 'Maharashtra Cricket Association Stadium', 'won': 1, 'lost': 0}, {'ground': 'M Chinnaswamy Stadium', 'won': 0, 'lost': 2}, {'ground': 'Green Park', 'won': 2, 'lost': 0}, {'ground': 'Eden Gardens', 'won': 1, 'lost': 0}, {'ground': 'Saurashtra Cricket Association Stadium', 'won': 2, 'lost': 3}, {'ground': 'Feroz Shah Kotla', 'won': 1, 'lost': 1}, {'ground': 'Wankhede Stadium', 'won': 1, 'lost': 0}, {'ground': 'Punjab Cricket Association Stadium, Mohali', 'won': 1, 'lost': 0}]}\n"
     ]
    }
   ],
   "source": [
    "for t in teams:\n",
    "    print('--------------------\\n', t)\n",
    "    print(get_grounds_results(t))"
   ]
  },
  {
   "cell_type": "code",
   "execution_count": 49,
   "metadata": {},
   "outputs": [
    {
     "data": {
      "text/plain": [
       "'Punjab Cricket Association IS Bindra Stadium, Mohali'"
      ]
     },
     "execution_count": 49,
     "metadata": {},
     "output_type": "execute_result"
    }
   ],
   "source": [
    "df1 = df[df['team1'] == 'Gujarat Lions']\n",
    "df2 = df[df['team2'] == 'Gujarat Lions']\n",
    "df1.append(df2).iloc[6]['venue']"
   ]
  },
  {
   "cell_type": "code",
   "execution_count": null,
   "metadata": {},
   "outputs": [],
   "source": []
  }
 ],
 "metadata": {
  "kernelspec": {
   "display_name": "Python 3",
   "language": "python",
   "name": "python3"
  },
  "language_info": {
   "codemirror_mode": {
    "name": "ipython",
    "version": 3
   },
   "file_extension": ".py",
   "mimetype": "text/x-python",
   "name": "python",
   "nbconvert_exporter": "python",
   "pygments_lexer": "ipython3",
   "version": "3.6.2"
  }
 },
 "nbformat": 4,
 "nbformat_minor": 2
}
